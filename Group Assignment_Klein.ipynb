{
 "cells": [
  {
   "cell_type": "markdown",
   "metadata": {},
   "source": [
    "## Group Assignment"
   ]
  },
  {
   "cell_type": "markdown",
   "metadata": {},
   "source": [
    "#### Import the necessary libraries"
   ]
  },
  {
   "cell_type": "code",
   "execution_count": 1,
   "metadata": {},
   "outputs": [],
   "source": [
    "import numpy as np\n",
    "import pandas as pd\n",
    "\n",
    "import datetime as dt\n",
    "import yfinance as yf\n",
    "import pandas_datareader.data as web\n",
    "\n",
    "import matplotlib.pyplot as plt\n",
    "%matplotlib inline"
   ]
  },
  {
   "cell_type": "markdown",
   "metadata": {},
   "source": [
    "#### All questions in Parts I and II apply to a random sample of 15 stocks that your group will be assigned by running the following code."
   ]
  },
  {
   "cell_type": "markdown",
   "metadata": {},
   "source": [
    "#### Random Sample Selection "
   ]
  },
  {
   "cell_type": "code",
   "execution_count": 2,
   "metadata": {},
   "outputs": [
    {
     "name": "stdout",
     "output_type": "stream",
     "text": [
      "These are the fifteen stocks assigned to you: DIS PG V UNH CSCO PFE JPM AXP JNJ INTC KO CAT WMT CVX XOM\n"
     ]
    }
   ],
   "source": [
    "np.random.seed (2051 + 6)\n",
    "ticker_list = ['AAPL', 'AXP', 'BA', 'C','CAT', 'CSCO', 'CVX', 'DIS', 'GS', 'HD', 'IBM', 'INTC', 'JNJ', 'JPM', 'KO',\n",
    "            'MCD', 'MMM', 'MRK', 'MSFT', 'NKE', 'PFE', 'PG', 'TRV', 'UNH', 'V', 'VZ', 'WMT', 'XOM']\n",
    "\n",
    "stock_list = np.random.choice(ticker_list,15,replace=False)\n",
    "print(f'These are the fifteen stocks assigned to you: {\" \".join(stock_list)}')"
   ]
  },
  {
   "cell_type": "markdown",
   "metadata": {},
   "source": [
    "### PART I"
   ]
  },
  {
   "cell_type": "markdown",
   "metadata": {},
   "source": [
    "#### 1. Find the optimal portfolio over the period January 2015 - December 2019, using the fifteen stocks assigned to your group. Assume there are no short-selling constraints."
   ]
  },
  {
   "cell_type": "code",
   "execution_count": 3,
   "metadata": {},
   "outputs": [
    {
     "name": "stdout",
     "output_type": "stream",
     "text": [
      "[*********************100%***********************]  15 of 15 completed\n"
     ]
    }
   ],
   "source": [
    "start = dt.datetime(2015,1,1)\n",
    "end = dt.datetime(2019,12,31)\n",
    "\n",
    "stock_list=['DIS', 'PG', 'V', 'UNH', 'CSCO', 'PFE', 'JPM', 'AXP', 'JNJ', 'INTC', 'KO', 'CAT', 'WMT', 'CVX', 'XOM']\n",
    "\n",
    "returns = yf.download(stock_list,start-pd.offsets.BDay(1),end)['Adj Close'].pct_change().dropna()"
   ]
  },
  {
   "cell_type": "code",
   "execution_count": 4,
   "metadata": {},
   "outputs": [],
   "source": [
    "from scipy.optimize import minimize"
   ]
  },
  {
   "cell_type": "code",
   "execution_count": 5,
   "metadata": {},
   "outputs": [],
   "source": [
    "returns_mon = returns.resample('M').apply(lambda x: x.add(1).prod().sub(1))"
   ]
  },
  {
   "cell_type": "code",
   "execution_count": 34,
   "metadata": {},
   "outputs": [],
   "source": [
    "def port_ret(weights):\n",
    "    port_ret = np.dot(returns_mon*12,weights).mean()\n",
    "    return port_ret\n",
    "\n",
    "def port_std(weights):\n",
    "    port_std = np.sqrt(np.dot(weights, np.dot(returns_mon.cov()*12, weights)))\n",
    "    return port_std\n",
    "\n",
    "def ex_port_ret(weights):\n",
    "    ex_port_ret = (np.dot(returns_mon,weights) - rf['RF']).mean()*12\n",
    "    return ex_port_ret\n",
    "\n",
    "def ex_port_std(weights):\n",
    "    ex_port_std = (np.dot(returns_mon,weights) - rf['RF']).std()*np.sqrt(12)\n",
    "    return ex_port_std\n",
    "\n",
    "def neg_SR(weights):\n",
    "    SR = ex_port_ret(weights) / ex_port_std(weights)\n",
    "    return (-1)*SR"
   ]
  },
  {
   "cell_type": "code",
   "execution_count": 35,
   "metadata": {},
   "outputs": [],
   "source": [
    "rf = web.DataReader('F-F_Research_Data_Factors','famafrench', start, end)[0][['RF']].div(100)\n",
    "rf.index = rf.index.to_timestamp(how='end').normalize()"
   ]
  },
  {
   "cell_type": "code",
   "execution_count": 36,
   "metadata": {},
   "outputs": [],
   "source": [
    "constraints = ({'type':'eq','fun': lambda weights: np.sum(weights) - 1})\n",
    "\n",
    "boundaries=[(0,1)]\n",
    "bounds = tuple(boundaries * len(returns_mon.columns))\n",
    "\n",
    "init_guess = np.full(len(returns_mon.columns), 1/len(returns_mon.columns))"
   ]
  },
  {
   "cell_type": "code",
   "execution_count": 37,
   "metadata": {},
   "outputs": [
    {
     "data": {
      "text/plain": [
       "     fun: -2.319868035814583\n",
       "     jac: array([-0.05631372, -0.05625135, -0.05705145, -0.05621952, -0.05651611,\n",
       "       -0.05642933, -0.05635974, -0.05633351, -0.05606735, -0.05678281,\n",
       "       -0.05644074, -0.05635425, -0.05691671, -0.0558736 , -0.05629462])\n",
       " message: 'Optimization terminated successfully'\n",
       "    nfev: 259\n",
       "     nit: 16\n",
       "    njev: 16\n",
       "  status: 0\n",
       " success: True\n",
       "       x: array([-4.87456242e-01,  2.96861463e-04,  2.08816569e-02,  2.15298940e-01,\n",
       "       -1.97077374e-01,  5.81811039e-02,  2.45200964e-02,  5.18670722e-01,\n",
       "       -1.17407223e-01, -2.95321871e-01,  3.23585701e-01,  5.93982742e-01,\n",
       "        8.61696758e-01,  4.36006596e-02, -5.63452531e-01])"
      ]
     },
     "execution_count": 37,
     "metadata": {},
     "output_type": "execute_result"
    }
   ],
   "source": [
    "optimal_port=minimize(neg_SR,init_guess,constraints=constraints)\n",
    "optimal_port"
   ]
  },
  {
   "cell_type": "markdown",
   "metadata": {},
   "source": [
    "#### 2. What are the weights of the stocks in the optimal portfolio?"
   ]
  },
  {
   "cell_type": "code",
   "execution_count": 38,
   "metadata": {},
   "outputs": [
    {
     "name": "stdout",
     "output_type": "stream",
     "text": [
      "DIS  -0.4875\n",
      "PG  0.0003\n",
      "V  0.0209\n",
      "UNH  0.2153\n",
      "CSCO  -0.1971\n",
      "PFE  0.0582\n",
      "JPM  0.0245\n",
      "AXP  0.5187\n",
      "JNJ  -0.1174\n",
      "INTC  -0.2953\n",
      "KO  0.3236\n",
      "CAT  0.594\n",
      "WMT  0.8617\n",
      "CVX  0.0436\n",
      "XOM  -0.5635\n"
     ]
    }
   ],
   "source": [
    "for ticker in stock_list:\n",
    "    result=print(ticker + \"  \"+ str(round(optimal_port.x[stock_list.index(ticker)],4)))"
   ]
  },
  {
   "cell_type": "markdown",
   "metadata": {},
   "source": [
    "#### 3. What was the annualized average monthly return for the optimal portfolio?"
   ]
  },
  {
   "cell_type": "code",
   "execution_count": 39,
   "metadata": {},
   "outputs": [],
   "source": [
    "optimal_weights = optimal_port.x\n",
    "optimal_annual_return = port_ret(optimal_weights) * 12"
   ]
  },
  {
   "cell_type": "markdown",
   "metadata": {},
   "source": [
    "#### 4. What was the annualized monthly standard deviation for the optimal portfolio?"
   ]
  },
  {
   "cell_type": "code",
   "execution_count": 40,
   "metadata": {},
   "outputs": [],
   "source": [
    "optimal_std=port_std(optimal_weights) * 12"
   ]
  },
  {
   "cell_type": "markdown",
   "metadata": {},
   "source": [
    "#### 5. What was the Sharpe Ratio of the optimal portfolio?"
   ]
  },
  {
   "cell_type": "code",
   "execution_count": 41,
   "metadata": {},
   "outputs": [
    {
     "data": {
      "text/plain": [
       "2.319868035814583"
      ]
     },
     "execution_count": 41,
     "metadata": {},
     "output_type": "execute_result"
    }
   ],
   "source": [
    "-optimal_port.fun"
   ]
  },
  {
   "cell_type": "markdown",
   "metadata": {},
   "source": [
    "### PART II"
   ]
  },
  {
   "cell_type": "markdown",
   "metadata": {
    "tags": []
   },
   "source": [
    "#### 1. Create a DataFrame named optimal_weights to store the weights from a portfolio optimization performed on a rolling basis. Specifically, the optimization should use a 60 month rolling window, and be performed every month. The first 60 months correspond to the sample period for data_initial (01/2015 - 12/2019) created in question 3. Hence, the first observation in the optimal_weights DataFrame should be the weights you listed above in Part I. The next 60 month period should be 02/2015 - 01/2020, followed by 03/2015 - 02/2020, and so on. The last 60 month period should be 03/2018 - 02/2023. Again, assume there are no short-selling constraints."
   ]
  },
  {
   "cell_type": "code",
   "execution_count": 46,
   "metadata": {},
   "outputs": [],
   "source": [
    "rf_rate = web.DataReader('F-F_Research_Data_Factors','famafrench', start, end)[0][['RF']].div(100)"
   ]
  },
  {
   "cell_type": "code",
   "execution_count": 47,
   "metadata": {},
   "outputs": [],
   "source": [
    "def neg_SR(weights):\n",
    "    SR = ex_port_ret(weights) / ex_port_std(weights)\n",
    "    return (-1)*SR"
   ]
  },
  {
   "cell_type": "code",
   "execution_count": 52,
   "metadata": {},
   "outputs": [
    {
     "data": {
      "text/html": [
       "<div>\n",
       "<style scoped>\n",
       "    .dataframe tbody tr th:only-of-type {\n",
       "        vertical-align: middle;\n",
       "    }\n",
       "\n",
       "    .dataframe tbody tr th {\n",
       "        vertical-align: top;\n",
       "    }\n",
       "\n",
       "    .dataframe thead tr th {\n",
       "        text-align: left;\n",
       "    }\n",
       "</style>\n",
       "<table border=\"1\" class=\"dataframe\">\n",
       "  <thead>\n",
       "    <tr>\n",
       "      <th></th>\n",
       "      <th>DIS</th>\n",
       "      <th>PG</th>\n",
       "      <th>V</th>\n",
       "      <th>UNH</th>\n",
       "      <th>CSCO</th>\n",
       "      <th>PFE</th>\n",
       "      <th>JPM</th>\n",
       "      <th>AXP</th>\n",
       "      <th>JNJ</th>\n",
       "      <th>INTC</th>\n",
       "      <th>KO</th>\n",
       "      <th>CAT</th>\n",
       "      <th>WMT</th>\n",
       "      <th>CVX</th>\n",
       "      <th>XOM</th>\n",
       "    </tr>\n",
       "  </thead>\n",
       "  <tbody>\n",
       "    <tr>\n",
       "      <th>2015-03-30</th>\n",
       "      <td>-0.4873</td>\n",
       "      <td>0.0003</td>\n",
       "      <td>0.0208</td>\n",
       "      <td>0.2153</td>\n",
       "      <td>-0.1969</td>\n",
       "      <td>0.0582</td>\n",
       "      <td>0.0246</td>\n",
       "      <td>0.5186</td>\n",
       "      <td>-0.1173</td>\n",
       "      <td>-0.2954</td>\n",
       "      <td>0.3235</td>\n",
       "      <td>0.5939</td>\n",
       "      <td>0.8615</td>\n",
       "      <td>0.0437</td>\n",
       "      <td>-0.5635</td>\n",
       "    </tr>\n",
       "  </tbody>\n",
       "</table>\n",
       "</div>"
      ],
      "text/plain": [
       "               DIS      PG       V     UNH    CSCO     PFE     JPM     AXP  \\\n",
       "2015-03-30 -0.4873  0.0003  0.0208  0.2153 -0.1969  0.0582  0.0246  0.5186   \n",
       "\n",
       "               JNJ    INTC      KO     CAT     WMT     CVX     XOM  \n",
       "2015-03-30 -0.1173 -0.2954  0.3235  0.5939  0.8615  0.0437 -0.5635  "
      ]
     },
     "execution_count": 52,
     "metadata": {},
     "output_type": "execute_result"
    }
   ],
   "source": [
    "optimal_weights = pd.DataFrame()\n",
    "\n",
    "for i in range(0,len(returns_mon.index)-60+1):\n",
    "    # Define the negative Sharpe Ratio function that we will minimize\n",
    "    def neg_SR(weights):\n",
    "        SR = (np.dot(returns_mon.iloc[i:i+60],weights) - rf_rate.iloc[i:i+60]['RF']).mean()*250 /\\\n",
    "        (np.dot(returns_mon.iloc[i:i+60],weights) - rf_rate.iloc[i:i+60]['RF']).std()*np.sqrt(250)\n",
    "        return (-1)*SR\n",
    "    \n",
    "    constraints = ({'type':'eq','fun': lambda weights: np.sum(weights) - 1})\n",
    "\n",
    "    init_guess = np.full(len(returns_mon.columns),1/len(returns_mon.columns))\n",
    "    \n",
    "    optimal_port = minimize(neg_SR,init_guess,constraints = constraints)\n",
    "    \n",
    "    optimal_weights = pd.concat([optimal_weights,\n",
    "                                pd.DataFrame(optimal_port.x.reshape(1,len(stock_list)).round(4),\n",
    "                                             columns=[stock_list],\n",
    "                                             index=[returns.iloc[i:i+60].index[-1]])],\n",
    "                                axis=0)\n",
    "    \n",
    "optimal_weights"
   ]
  },
  {
   "cell_type": "markdown",
   "metadata": {
    "tags": []
   },
   "source": [
    "#### 2. Create a new DataFrame named port_returns to store the monthly returns over the sample period 01/2020 - 02/2023 for the following portfolios:\n",
    " 1) A monthly rebalanced portfolio using the rolling optimal weights. Specifically, the portfolio return for 01/2020 should be based on the weights as of 12/2019 (the same values detailed in Part I and in the first row in the optimal_weights DataFrame), the portfolio return for 02/2020 should be based on the weights as of 01/2020 and so on. Label the portfolio (MRoll_Reb_OP, an acronym for Monthly Rolling Rebalanced Optimal Portfolio). \n",
    " 2) A monthly rebalanced portfolio using the optimal weights as of 12/2019. Label the portfolio (M_Reb_OP, an acronym for Monthly Rebalancing Optimal Portfolio).\n",
    " 3) A monthly rebalanced equally-weighted portfolio. Label the portfolio (M_Reb_EW, an acronym for Monthly Rebalancing Equally-Weighted Portfolio).\n",
    " 4) A buy and hold portfolio, initially allocated according to the optimal weights as of 12/2019. Label the portfolio (BH_OP, an acronym for Buy and Hold Optimal Portfolio).\n",
    " 5) A buy and hold portfolio, initially allocated equally across stocks. Label the portfolio (BH_EW, an acronym for Buy and Hold Equally-Weighted Portfolio)."
   ]
  },
  {
   "cell_type": "code",
   "execution_count": null,
   "metadata": {},
   "outputs": [],
   "source": []
  },
  {
   "cell_type": "markdown",
   "metadata": {},
   "source": [
    "#### 3. Create a DataFrame port_stats (with a 3x5 shape) to store the annualized average monthly return, the annualized monthly standard deviation and the Sharpe ratio for all 5 portfolios."
   ]
  },
  {
   "cell_type": "code",
   "execution_count": null,
   "metadata": {},
   "outputs": [],
   "source": []
  },
  {
   "cell_type": "markdown",
   "metadata": {},
   "source": [
    "#### 4. Compute the cumulative return series for all portfolios and plot them in the same graph. "
   ]
  },
  {
   "cell_type": "code",
   "execution_count": null,
   "metadata": {},
   "outputs": [],
   "source": []
  },
  {
   "cell_type": "markdown",
   "metadata": {},
   "source": [
    "#### 5. What was the cumulative return for the best performing portfolio? What was the cumulative return for the worst performing portfolio?"
   ]
  },
  {
   "cell_type": "code",
   "execution_count": null,
   "metadata": {},
   "outputs": [],
   "source": []
  },
  {
   "cell_type": "markdown",
   "metadata": {},
   "source": [
    "### PART III - Examination of the Size Effect"
   ]
  },
  {
   "cell_type": "markdown",
   "metadata": {},
   "source": [
    "Please download the file \"crsp_fall22.csv\" located in folder Group_Assignment. The file contains the following columns:\n",
    "* PERMNO - Permanent number (unique identifer for the stock)\n",
    "* DATE\n",
    "* PRC - The closing price\n",
    "* VOL - Trading volume (in hundreds)\n",
    "* RET - The simple return\n",
    "* SHROUT - The number of shares outstanding (in thousands)\n",
    "* CFACPR - Cumulative factor to adjust the closing price\n",
    "* CFACSHR - Cumulative factor to adjust shares outstanding"
   ]
  },
  {
   "cell_type": "markdown",
   "metadata": {
    "tags": []
   },
   "source": [
    "#### 1. Create a DataFrame named fin_data by reading in the columns DATE, PERMNO, RET, PRC and SHROUT from the file 'crsp_fall22.csv'. Set the DATE as the index. In addition, change each index value to the end of the month. For example, change '1926-05-30' to 1926-05-31', or '1987-01-30' to '1987-01-31'. In addition, create a new column (labeled MKTCAP) to store the market capitalization (defined as PRC * SHROUT). Subsequently, permanently remove the PRC and SHROUT columns."
   ]
  },
  {
   "cell_type": "code",
   "execution_count": 16,
   "metadata": {},
   "outputs": [
    {
     "data": {
      "text/html": [
       "<div>\n",
       "<style scoped>\n",
       "    .dataframe tbody tr th:only-of-type {\n",
       "        vertical-align: middle;\n",
       "    }\n",
       "\n",
       "    .dataframe tbody tr th {\n",
       "        vertical-align: top;\n",
       "    }\n",
       "\n",
       "    .dataframe thead th {\n",
       "        text-align: right;\n",
       "    }\n",
       "</style>\n",
       "<table border=\"1\" class=\"dataframe\">\n",
       "  <thead>\n",
       "    <tr style=\"text-align: right;\">\n",
       "      <th></th>\n",
       "      <th>PERMNO</th>\n",
       "      <th>RET</th>\n",
       "      <th>MKTCAP</th>\n",
       "    </tr>\n",
       "    <tr>\n",
       "      <th>DATE</th>\n",
       "      <th></th>\n",
       "      <th></th>\n",
       "      <th></th>\n",
       "    </tr>\n",
       "  </thead>\n",
       "  <tbody>\n",
       "    <tr>\n",
       "      <th>1990-01-31</th>\n",
       "      <td>21573.0</td>\n",
       "      <td>-0.106195</td>\n",
       "      <td>5.499450e+06</td>\n",
       "    </tr>\n",
       "    <tr>\n",
       "      <th>1990-01-31</th>\n",
       "      <td>55160.0</td>\n",
       "      <td>-0.190476</td>\n",
       "      <td>2.067094e+03</td>\n",
       "    </tr>\n",
       "    <tr>\n",
       "      <th>1990-01-31</th>\n",
       "      <td>45129.0</td>\n",
       "      <td>-0.086420</td>\n",
       "      <td>1.892550e+05</td>\n",
       "    </tr>\n",
       "    <tr>\n",
       "      <th>1990-01-31</th>\n",
       "      <td>22250.0</td>\n",
       "      <td>-0.174684</td>\n",
       "      <td>3.117920e+05</td>\n",
       "    </tr>\n",
       "    <tr>\n",
       "      <th>1990-01-31</th>\n",
       "      <td>60468.0</td>\n",
       "      <td>-0.071429</td>\n",
       "      <td>2.227225e+04</td>\n",
       "    </tr>\n",
       "    <tr>\n",
       "      <th>...</th>\n",
       "      <td>...</td>\n",
       "      <td>...</td>\n",
       "      <td>...</td>\n",
       "    </tr>\n",
       "    <tr>\n",
       "      <th>2022-03-31</th>\n",
       "      <td>16400.0</td>\n",
       "      <td>-0.070234</td>\n",
       "      <td>2.676084e+05</td>\n",
       "    </tr>\n",
       "    <tr>\n",
       "      <th>2022-03-31</th>\n",
       "      <td>16401.0</td>\n",
       "      <td>0.424749</td>\n",
       "      <td>9.943693e+04</td>\n",
       "    </tr>\n",
       "    <tr>\n",
       "      <th>2022-03-31</th>\n",
       "      <td>90664.0</td>\n",
       "      <td>0.236017</td>\n",
       "      <td>4.965897e+07</td>\n",
       "    </tr>\n",
       "    <tr>\n",
       "      <th>2022-03-31</th>\n",
       "      <td>90637.0</td>\n",
       "      <td>0.147917</td>\n",
       "      <td>1.278777e+05</td>\n",
       "    </tr>\n",
       "    <tr>\n",
       "      <th>2022-03-31</th>\n",
       "      <td>93436.0</td>\n",
       "      <td>0.238009</td>\n",
       "      <td>1.113736e+09</td>\n",
       "    </tr>\n",
       "  </tbody>\n",
       "</table>\n",
       "<p>1929417 rows × 3 columns</p>\n",
       "</div>"
      ],
      "text/plain": [
       "             PERMNO       RET        MKTCAP\n",
       "DATE                                       \n",
       "1990-01-31  21573.0 -0.106195  5.499450e+06\n",
       "1990-01-31  55160.0 -0.190476  2.067094e+03\n",
       "1990-01-31  45129.0 -0.086420  1.892550e+05\n",
       "1990-01-31  22250.0 -0.174684  3.117920e+05\n",
       "1990-01-31  60468.0 -0.071429  2.227225e+04\n",
       "...             ...       ...           ...\n",
       "2022-03-31  16400.0 -0.070234  2.676084e+05\n",
       "2022-03-31  16401.0  0.424749  9.943693e+04\n",
       "2022-03-31  90664.0  0.236017  4.965897e+07\n",
       "2022-03-31  90637.0  0.147917  1.278777e+05\n",
       "2022-03-31  93436.0  0.238009  1.113736e+09\n",
       "\n",
       "[1929417 rows x 3 columns]"
      ]
     },
     "execution_count": 16,
     "metadata": {},
     "output_type": "execute_result"
    }
   ],
   "source": [
    "fin_data=pd.read_csv('crsp_fall22.csv',\n",
    "                     usecols=['DATE','PERMNO','RET','PRC','SHROUT'],\n",
    "                     index_col='DATE',\n",
    "                     parse_dates=True)\n",
    "fin_data.index=fin_data.index+pd.offsets.MonthEnd(0)\n",
    "fin_data['MKTCAP']=fin_data['PRC']*fin_data['SHROUT']\n",
    "fin_data.drop(['PRC','SHROUT'],axis=1,inplace=True)\n",
    "fin_data"
   ]
  },
  {
   "cell_type": "markdown",
   "metadata": {},
   "source": [
    "#### 2. How many stocks are there in the sample? How many of these stocks are in the sample over the entire sample period?"
   ]
  },
  {
   "cell_type": "code",
   "execution_count": 17,
   "metadata": {},
   "outputs": [
    {
     "data": {
      "text/plain": [
       "PERMNO      18153\n",
       "RET        828585\n",
       "MKTCAP    1611452\n",
       "dtype: int64"
      ]
     },
     "execution_count": 17,
     "metadata": {},
     "output_type": "execute_result"
    }
   ],
   "source": [
    "fin_data.nunique()"
   ]
  },
  {
   "cell_type": "markdown",
   "metadata": {
    "tags": []
   },
   "source": [
    "#### 3. Every June, split the stocks into quintiles (five groups) based on their market capitalization. The header of a DataFrame named size_qt with the resulting split can be found below. "
   ]
  },
  {
   "cell_type": "code",
   "execution_count": 101,
   "metadata": {
    "tags": []
   },
   "outputs": [
    {
     "data": {
      "text/html": [
       "<div>\n",
       "<style scoped>\n",
       "    .dataframe tbody tr th:only-of-type {\n",
       "        vertical-align: middle;\n",
       "    }\n",
       "\n",
       "    .dataframe tbody tr th {\n",
       "        vertical-align: top;\n",
       "    }\n",
       "\n",
       "    .dataframe thead th {\n",
       "        text-align: right;\n",
       "    }\n",
       "</style>\n",
       "<table border=\"1\" class=\"dataframe\">\n",
       "  <thead>\n",
       "    <tr style=\"text-align: right;\">\n",
       "      <th></th>\n",
       "      <th>PERMNO</th>\n",
       "      <th>MKTCAP_QT</th>\n",
       "    </tr>\n",
       "    <tr>\n",
       "      <th>DATE</th>\n",
       "      <th></th>\n",
       "      <th></th>\n",
       "    </tr>\n",
       "  </thead>\n",
       "  <tbody>\n",
       "    <tr>\n",
       "      <th>1990-06-30</th>\n",
       "      <td>10294</td>\n",
       "      <td>3</td>\n",
       "    </tr>\n",
       "    <tr>\n",
       "      <th>1990-06-30</th>\n",
       "      <td>65496</td>\n",
       "      <td>3</td>\n",
       "    </tr>\n",
       "    <tr>\n",
       "      <th>1990-06-30</th>\n",
       "      <td>10905</td>\n",
       "      <td>2</td>\n",
       "    </tr>\n",
       "    <tr>\n",
       "      <th>1990-06-30</th>\n",
       "      <td>32037</td>\n",
       "      <td>1</td>\n",
       "    </tr>\n",
       "    <tr>\n",
       "      <th>1990-06-30</th>\n",
       "      <td>66288</td>\n",
       "      <td>5</td>\n",
       "    </tr>\n",
       "  </tbody>\n",
       "</table>\n",
       "</div>"
      ],
      "text/plain": [
       "            PERMNO MKTCAP_QT\n",
       "DATE                        \n",
       "1990-06-30   10294         3\n",
       "1990-06-30   65496         3\n",
       "1990-06-30   10905         2\n",
       "1990-06-30   32037         1\n",
       "1990-06-30   66288         5"
      ]
     },
     "execution_count": 101,
     "metadata": {},
     "output_type": "execute_result"
    }
   ],
   "source": [
    "size_qt.sort_index().head()"
   ]
  },
  {
   "cell_type": "markdown",
   "metadata": {
    "tags": []
   },
   "source": [
    "#### 4. Create a new DataFrame named data by using the merge_asof() function to merge the DataFrames fin_data and size_qt. Specifically, merge each stock's June quintile allocation with the stock's monthly returns for the next 12 months starting the following July. Subsequently, set DATE as the index in the DataFrame."
   ]
  },
  {
   "cell_type": "code",
   "execution_count": null,
   "metadata": {},
   "outputs": [],
   "source": [
    "data=pd.DataFrame()"
   ]
  },
  {
   "cell_type": "markdown",
   "metadata": {},
   "source": [
    "#### 5. Create a new DataFrame called quintiles to store the average monthly return for each quintile. The header of the DataFrame can be found below:"
   ]
  },
  {
   "cell_type": "code",
   "execution_count": null,
   "metadata": {},
   "outputs": [],
   "source": []
  },
  {
   "cell_type": "code",
   "execution_count": 105,
   "metadata": {},
   "outputs": [
    {
     "data": {
      "text/html": [
       "<div>\n",
       "<style scoped>\n",
       "    .dataframe tbody tr th:only-of-type {\n",
       "        vertical-align: middle;\n",
       "    }\n",
       "\n",
       "    .dataframe tbody tr th {\n",
       "        vertical-align: top;\n",
       "    }\n",
       "\n",
       "    .dataframe thead th {\n",
       "        text-align: right;\n",
       "    }\n",
       "</style>\n",
       "<table border=\"1\" class=\"dataframe\">\n",
       "  <thead>\n",
       "    <tr style=\"text-align: right;\">\n",
       "      <th></th>\n",
       "      <th>Q1_RET</th>\n",
       "      <th>Q2_RET</th>\n",
       "      <th>Q3_RET</th>\n",
       "      <th>Q4_RET</th>\n",
       "      <th>Q5_RET</th>\n",
       "    </tr>\n",
       "    <tr>\n",
       "      <th>DATE</th>\n",
       "      <th></th>\n",
       "      <th></th>\n",
       "      <th></th>\n",
       "      <th></th>\n",
       "      <th></th>\n",
       "    </tr>\n",
       "  </thead>\n",
       "  <tbody>\n",
       "    <tr>\n",
       "      <th>1990-07-31</th>\n",
       "      <td>-0.001078</td>\n",
       "      <td>-0.041629</td>\n",
       "      <td>-0.044858</td>\n",
       "      <td>-0.040050</td>\n",
       "      <td>-0.028895</td>\n",
       "    </tr>\n",
       "    <tr>\n",
       "      <th>1990-08-31</th>\n",
       "      <td>-0.088672</td>\n",
       "      <td>-0.111944</td>\n",
       "      <td>-0.134610</td>\n",
       "      <td>-0.132793</td>\n",
       "      <td>-0.110817</td>\n",
       "    </tr>\n",
       "    <tr>\n",
       "      <th>1990-09-30</th>\n",
       "      <td>-0.045567</td>\n",
       "      <td>-0.090744</td>\n",
       "      <td>-0.092048</td>\n",
       "      <td>-0.099917</td>\n",
       "      <td>-0.080715</td>\n",
       "    </tr>\n",
       "    <tr>\n",
       "      <th>1990-10-31</th>\n",
       "      <td>-0.071408</td>\n",
       "      <td>-0.064675</td>\n",
       "      <td>-0.069424</td>\n",
       "      <td>-0.060729</td>\n",
       "      <td>-0.039041</td>\n",
       "    </tr>\n",
       "    <tr>\n",
       "      <th>1990-11-30</th>\n",
       "      <td>-0.011988</td>\n",
       "      <td>0.002373</td>\n",
       "      <td>0.033031</td>\n",
       "      <td>0.070116</td>\n",
       "      <td>0.099023</td>\n",
       "    </tr>\n",
       "  </tbody>\n",
       "</table>\n",
       "</div>"
      ],
      "text/plain": [
       "              Q1_RET    Q2_RET    Q3_RET    Q4_RET    Q5_RET\n",
       "DATE                                                        \n",
       "1990-07-31 -0.001078 -0.041629 -0.044858 -0.040050 -0.028895\n",
       "1990-08-31 -0.088672 -0.111944 -0.134610 -0.132793 -0.110817\n",
       "1990-09-30 -0.045567 -0.090744 -0.092048 -0.099917 -0.080715\n",
       "1990-10-31 -0.071408 -0.064675 -0.069424 -0.060729 -0.039041\n",
       "1990-11-30 -0.011988  0.002373  0.033031  0.070116  0.099023"
      ]
     },
     "execution_count": 105,
     "metadata": {},
     "output_type": "execute_result"
    }
   ],
   "source": [
    "quintiles.head()"
   ]
  },
  {
   "cell_type": "markdown",
   "metadata": {},
   "source": [
    "#### 6. Create a bar plot of the average monthly return for all five market capitalization groups, across the entire sample."
   ]
  },
  {
   "cell_type": "code",
   "execution_count": null,
   "metadata": {},
   "outputs": [],
   "source": []
  },
  {
   "cell_type": "markdown",
   "metadata": {},
   "source": [
    "#### 7. Create a line plot of the cumulative return series for all five market capitalization groups."
   ]
  },
  {
   "cell_type": "code",
   "execution_count": null,
   "metadata": {},
   "outputs": [],
   "source": []
  }
 ],
 "metadata": {
  "anaconda-cloud": {},
  "kernelspec": {
   "display_name": "Python 3 (ipykernel)",
   "language": "python",
   "name": "python3"
  },
  "language_info": {
   "codemirror_mode": {
    "name": "ipython",
    "version": 3
   },
   "file_extension": ".py",
   "mimetype": "text/x-python",
   "name": "python",
   "nbconvert_exporter": "python",
   "pygments_lexer": "ipython3",
   "version": "3.9.15"
  }
 },
 "nbformat": 4,
 "nbformat_minor": 4
}
