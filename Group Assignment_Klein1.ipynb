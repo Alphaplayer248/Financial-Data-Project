{
 "cells": [
  {
   "cell_type": "markdown",
   "metadata": {},
   "source": [
    "## Group Assignment"
   ]
  },
  {
   "cell_type": "markdown",
   "metadata": {},
   "source": [
    "#### Import the necessary libraries"
   ]
  },
  {
   "cell_type": "code",
   "execution_count": 173,
   "metadata": {},
   "outputs": [],
   "source": [
    "import numpy as np\n",
    "import pandas as pd\n",
    "\n",
    "import datetime as dt\n",
    "import yfinance as yf\n",
    "import pandas_datareader.data as web\n",
    "\n",
    "import matplotlib.pyplot as plt\n",
    "%matplotlib inline"
   ]
  },
  {
   "cell_type": "markdown",
   "metadata": {},
   "source": [
    "#### All questions in Parts I and II apply to a random sample of 15 stocks that your group will be assigned by running the following code."
   ]
  },
  {
   "cell_type": "markdown",
   "metadata": {},
   "source": [
    "#### Random Sample Selection "
   ]
  },
  {
   "cell_type": "code",
   "execution_count": 174,
   "metadata": {},
   "outputs": [
    {
     "name": "stdout",
     "output_type": "stream",
     "text": [
      "These are the fifteen stocks assigned to you: DIS PG V UNH CSCO PFE JPM AXP JNJ INTC KO CAT WMT CVX XOM\n"
     ]
    }
   ],
   "source": [
    "np.random.seed (2051 + 6)\n",
    "ticker_list = ['AAPL', 'AXP', 'BA', 'C','CAT', 'CSCO', 'CVX', 'DIS', 'GS', 'HD', 'IBM', 'INTC', 'JNJ', 'JPM', 'KO',\n",
    "            'MCD', 'MMM', 'MRK', 'MSFT', 'NKE', 'PFE', 'PG', 'TRV', 'UNH', 'V', 'VZ', 'WMT', 'XOM']\n",
    "\n",
    "stock_list = np.random.choice(ticker_list,15,replace=False)\n",
    "print(f'These are the fifteen stocks assigned to you: {\" \".join(stock_list)}')"
   ]
  },
  {
   "cell_type": "markdown",
   "metadata": {},
   "source": [
    "### PART I"
   ]
  },
  {
   "cell_type": "markdown",
   "metadata": {},
   "source": [
    "#### 1. Find the optimal portfolio over the period January 2015 - December 2019, using the fifteen stocks assigned to your group. Assume there are no short-selling constraints."
   ]
  },
  {
   "cell_type": "code",
   "execution_count": 175,
   "metadata": {},
   "outputs": [
    {
     "name": "stdout",
     "output_type": "stream",
     "text": [
      "[*********************100%***********************]  15 of 15 completed\n"
     ]
    }
   ],
   "source": [
    "start = dt.datetime(2015,1,1)\n",
    "end = dt.datetime(2019,12,31)\n",
    "\n",
    "stock_list=['DIS', 'PG', 'V', 'UNH', 'CSCO', 'PFE', 'JPM', 'AXP', 'JNJ', 'INTC', 'KO', 'CAT', 'WMT', 'CVX', 'XOM']\n",
    "\n",
    "returns = yf.download(stock_list,start-pd.offsets.BDay(1),end+pd.offsets.BDay(1))['Adj Close'].pct_change().dropna()"
   ]
  },
  {
   "cell_type": "code",
   "execution_count": 176,
   "metadata": {},
   "outputs": [],
   "source": [
    "from scipy.optimize import minimize"
   ]
  },
  {
   "cell_type": "code",
   "execution_count": 177,
   "metadata": {},
   "outputs": [],
   "source": [
    "returns_mon = returns.resample('M').apply(lambda x: x.add(1).prod().sub(1))"
   ]
  },
  {
   "cell_type": "code",
   "execution_count": 178,
   "metadata": {},
   "outputs": [],
   "source": [
    "rf = web.DataReader('F-F_Research_Data_Factors','famafrench', start, end)[0][['RF']].div(100)\n",
    "rf.index = rf.index.to_timestamp(how='end').normalize()"
   ]
  },
  {
   "cell_type": "code",
   "execution_count": 179,
   "metadata": {},
   "outputs": [],
   "source": [
    "def port_ret(weights):\n",
    "    port_ret = np.dot(returns_mon*12,weights).mean()\n",
    "    return port_ret\n",
    "\n",
    "def port_std(weights):\n",
    "    port_std = np.sqrt(np.dot(weights, np.dot(returns_mon.cov()*12, weights)))\n",
    "    return port_std\n",
    "\n",
    "def ex_port_ret(weights):\n",
    "    ex_port_ret = (np.dot(returns_mon,weights) - rf['RF']).mean()*12\n",
    "    return ex_port_ret\n",
    "\n",
    "def ex_port_std(weights):\n",
    "    ex_port_std = (np.dot(returns_mon,weights) - rf['RF']).std()*np.sqrt(12)\n",
    "    return ex_port_std\n",
    "\n",
    "def neg_SR(weights):\n",
    "    SR = ex_port_ret(weights) / ex_port_std(weights)\n",
    "    return (-1)*SR"
   ]
  },
  {
   "cell_type": "code",
   "execution_count": 180,
   "metadata": {},
   "outputs": [],
   "source": [
    "constraints = ({'type':'eq','fun': lambda weights: np.sum(weights) - 1})\n",
    "\n",
    "boundaries=[(0,1)]\n",
    "bounds = tuple(boundaries * len(returns_mon.columns))\n",
    "\n",
    "init_guess = np.full(len(returns_mon.columns), 1/len(returns_mon.columns))"
   ]
  },
  {
   "cell_type": "code",
   "execution_count": 181,
   "metadata": {},
   "outputs": [
    {
     "data": {
      "text/plain": [
       "     fun: -2.319656623804544\n",
       "     jac: array([-0.05650496, -0.05623886, -0.05728331, -0.05621603, -0.05645567,\n",
       "       -0.05650467, -0.05646959, -0.05636692, -0.05608395, -0.05701166,\n",
       "       -0.0564574 , -0.05664572, -0.05703574, -0.0559471 , -0.05632886])\n",
       " message: 'Optimization terminated successfully'\n",
       "    nfev: 259\n",
       "     nit: 16\n",
       "    njev: 16\n",
       "  status: 0\n",
       " success: True\n",
       "       x: array([-0.48773969, -0.00113801,  0.02275165,  0.215731  , -0.19605697,\n",
       "        0.05884941,  0.02608484,  0.5186154 , -0.11671336, -0.29318495,\n",
       "        0.32402103,  0.59264484,  0.85734945,  0.04102705, -0.56224168])"
      ]
     },
     "execution_count": 181,
     "metadata": {},
     "output_type": "execute_result"
    }
   ],
   "source": [
    "optimal_port=minimize(neg_SR,init_guess,constraints=constraints)\n",
    "optimal_port"
   ]
  },
  {
   "cell_type": "markdown",
   "metadata": {},
   "source": [
    "#### 2. What are the weights of the stocks in the optimal portfolio?"
   ]
  },
  {
   "cell_type": "code",
   "execution_count": 182,
   "metadata": {},
   "outputs": [
    {
     "name": "stdout",
     "output_type": "stream",
     "text": [
      "DIS  -0.4877\n",
      "PG  -0.0011\n",
      "V  0.0228\n",
      "UNH  0.2157\n",
      "CSCO  -0.1961\n",
      "PFE  0.0588\n",
      "JPM  0.0261\n",
      "AXP  0.5186\n",
      "JNJ  -0.1167\n",
      "INTC  -0.2932\n",
      "KO  0.324\n",
      "CAT  0.5926\n",
      "WMT  0.8573\n",
      "CVX  0.041\n",
      "XOM  -0.5622\n"
     ]
    }
   ],
   "source": [
    "for ticker in stock_list:\n",
    "    result=print(ticker + \"  \"+ str(round(optimal_port.x[stock_list.index(ticker)],4)))"
   ]
  },
  {
   "cell_type": "markdown",
   "metadata": {},
   "source": [
    "#### 3. What was the annualized average monthly return for the optimal portfolio?"
   ]
  },
  {
   "cell_type": "code",
   "execution_count": 183,
   "metadata": {},
   "outputs": [],
   "source": [
    "optimal_weights = optimal_port.x\n",
    "optimal_annual_return = port_ret(optimal_weights) * 12"
   ]
  },
  {
   "cell_type": "markdown",
   "metadata": {},
   "source": [
    "#### 4. What was the annualized monthly standard deviation for the optimal portfolio?"
   ]
  },
  {
   "cell_type": "code",
   "execution_count": 184,
   "metadata": {},
   "outputs": [],
   "source": [
    "optimal_std=port_std(optimal_weights) * 12"
   ]
  },
  {
   "cell_type": "markdown",
   "metadata": {},
   "source": [
    "#### 5. What was the Sharpe Ratio of the optimal portfolio?"
   ]
  },
  {
   "cell_type": "code",
   "execution_count": 185,
   "metadata": {},
   "outputs": [
    {
     "data": {
      "text/plain": [
       "2.319656623804544"
      ]
     },
     "execution_count": 185,
     "metadata": {},
     "output_type": "execute_result"
    }
   ],
   "source": [
    "-optimal_port.fun"
   ]
  },
  {
   "cell_type": "markdown",
   "metadata": {},
   "source": [
    "### PART II"
   ]
  },
  {
   "cell_type": "markdown",
   "metadata": {
    "tags": []
   },
   "source": [
    "#### 1. Create a DataFrame named optimal_weights to store the weights from a portfolio optimization performed on a rolling basis. Specifically, the optimization should use a 60 month rolling window, and be performed every month. The first 60 months correspond to the sample period for data_initial (01/2015 - 12/2019) created in question 3. Hence, the first observation in the optimal_weights DataFrame should be the weights you listed above in Part I. The next 60 month period should be 02/2015 - 01/2020, followed by 03/2015 - 02/2020, and so on. The last 60 month period should be 03/2018 - 02/2023. Again, assume there are no short-selling constraints."
   ]
  },
  {
   "cell_type": "code",
   "execution_count": 186,
   "metadata": {},
   "outputs": [
    {
     "name": "stdout",
     "output_type": "stream",
     "text": [
      "[*********************100%***********************]  15 of 15 completed\n"
     ]
    }
   ],
   "source": [
    "start = dt.datetime(2015,1,1)\n",
    "end = dt.datetime(2023,2,28)\n",
    "\n",
    "stock_list=['DIS', 'PG', 'V', 'UNH', 'CSCO', 'PFE', 'JPM', 'AXP', 'JNJ', 'INTC', 'KO', 'CAT', 'WMT', 'CVX', 'XOM']\n",
    "\n",
    "returns = yf.download(stock_list,start-pd.offsets.BDay(1),end+pd.offsets.BDay(1))['Adj Close'].pct_change().dropna()"
   ]
  },
  {
   "cell_type": "code",
   "execution_count": 187,
   "metadata": {},
   "outputs": [],
   "source": [
    "rf_rate = web.DataReader('F-F_Research_Data_Factors','famafrench', start, end)[0][['RF']].div(100)"
   ]
  },
  {
   "cell_type": "code",
   "execution_count": 188,
   "metadata": {},
   "outputs": [],
   "source": [
    "returns_mon1 = returns.resample('M').apply(lambda x: x.add(1).prod().sub(1))"
   ]
  },
  {
   "cell_type": "code",
   "execution_count": 189,
   "metadata": {},
   "outputs": [],
   "source": [
    "optimal_weights = pd.DataFrame()\n",
    "\n",
    "for i in range(0,len(returns_mon1.index)-60+1):\n",
    "\n",
    "    def neg_SR(weights):\n",
    "        SR = ((np.dot(returns_mon1.iloc[i:i+60],weights) - rf_rate.iloc[i:i+60]['RF']).mean()*(12)) /\\\n",
    "        ((np.dot(returns_mon1.iloc[i:i+60],weights) - rf_rate.iloc[i:i+60]['RF']).std()*np.sqrt(12))\n",
    "        return (-1)*SR\n",
    "    \n",
    "    constraints = ({'type':'eq','fun': lambda weights: np.sum(weights) - 1})\n",
    "\n",
    "    init_guess = np.full(len(returns_mon1.columns),1/len(returns_mon1.columns))\n",
    "    \n",
    "    optimal_port = minimize(neg_SR,init_guess,constraints = constraints)\n",
    "    \n",
    "    optimal_weights = pd.concat([optimal_weights,\n",
    "                                pd.DataFrame(optimal_port.x.reshape(1,len(stock_list)).round(4),\n",
    "                                             columns=[stock_list],\n",
    "                                             index=[returns_mon1.iloc[i:i+60].index[-1]])],\n",
    "                                axis=0)\n",
    "optimal_weights.index.name='Date'\n",
    "optimal_weights=optimal_weights.sort_index(axis=1)"
   ]
  },
  {
   "cell_type": "markdown",
   "metadata": {
    "tags": []
   },
   "source": [
    "#### 2. Create a new DataFrame named port_returns to store the monthly returns over the sample period 01/2020 - 02/2023 for the following portfolios:\n",
    " 1) A monthly rebalanced portfolio using the rolling optimal weights. Specifically, the portfolio return for 01/2020 should be based on the weights as of 12/2019 (the same values detailed in Part I and in the first row in the optimal_weights DataFrame), the portfolio return for 02/2020 should be based on the weights as of 01/2020 and so on. Label the portfolio (MRoll_Reb_OP, an acronym for Monthly Rolling Rebalanced Optimal Portfolio). \n",
    " 2) A monthly rebalanced portfolio using the optimal weights as of 12/2019. Label the portfolio (M_Reb_OP, an acronym for Monthly Rebalancing Optimal Portfolio).\n",
    " 3) A monthly rebalanced equally-weighted portfolio. Label the portfolio (M_Reb_EW, an acronym for Monthly Rebalancing Equally-Weighted Portfolio).\n",
    " 4) A buy and hold portfolio, initially allocated according to the optimal weights as of 12/2019. Label the portfolio (BH_OP, an acronym for Buy and Hold Optimal Portfolio).\n",
    " 5) A buy and hold portfolio, initially allocated equally across stocks. Label the portfolio (BH_EW, an acronym for Buy and Hold Equally-Weighted Portfolio)."
   ]
  },
  {
   "cell_type": "code",
   "execution_count": 190,
   "metadata": {},
   "outputs": [],
   "source": [
    "init_guess = np.full(len(returns_mon1.columns), 1/len(returns_mon1.columns))"
   ]
  },
  {
   "cell_type": "code",
   "execution_count": 191,
   "metadata": {},
   "outputs": [
    {
     "name": "stdout",
     "output_type": "stream",
     "text": [
      "[*********************100%***********************]  15 of 15 completed\n"
     ]
    }
   ],
   "source": [
    "start = dt.datetime(2020,1,1)\n",
    "end = dt.datetime(2023,2,28)\n",
    "\n",
    "stock_list=['DIS', 'PG', 'V', 'UNH', 'CSCO', 'PFE', 'JPM', 'AXP', 'JNJ', 'INTC', 'KO', 'CAT', 'WMT', 'CVX', 'XOM']\n",
    "\n",
    "prices = yf.download(stock_list,start-pd.offsets.BDay(1),end+pd.offsets.BDay(1))['Adj Close']"
   ]
  },
  {
   "cell_type": "code",
   "execution_count": 192,
   "metadata": {},
   "outputs": [],
   "source": [
    "inv_value = pd.DataFrame()\n",
    "for column in prices:\n",
    "    inv_value[column] = prices[column].div(prices[column].iloc[0])\n",
    "inv_value=inv_value.resample('M').last()"
   ]
  },
  {
   "cell_type": "code",
   "execution_count": 193,
   "metadata": {},
   "outputs": [],
   "source": [
    "#1\n",
    "MRoll_Reb_OP=pd.DataFrame()\n",
    "for i in range(0,len(optimal_weights)-1):\n",
    "    MRoll_Reb_OP = pd.concat([MRoll_Reb_OP,\n",
    "                              pd.DataFrame({'MRoll_Reb_OP':np.dot(optimal_weights.iloc[i],returns_mon1.iloc[i+60])},\n",
    "                                           index = [returns_mon1.index[i+60]])],\n",
    "                                           axis=0)"
   ]
  },
  {
   "cell_type": "code",
   "execution_count": null,
   "metadata": {},
   "outputs": [],
   "source": []
  },
  {
   "cell_type": "code",
   "execution_count": 194,
   "metadata": {},
   "outputs": [],
   "source": [
    "#2\n",
    "M_Reb_OP = pd.DataFrame({'M_Reb_OP':np.dot(returns_mon1.iloc[0+60:], optimal_weights.iloc[0])},index = returns_mon1.index[0+60:])"
   ]
  },
  {
   "cell_type": "code",
   "execution_count": 195,
   "metadata": {},
   "outputs": [],
   "source": [
    "#3\n",
    "M_Reb_EW=pd.DataFrame()\n",
    "for i in range(0,len(optimal_weights)-1):\n",
    "    M_Reb_EW = pd.concat([M_Reb_EW,\n",
    "                              pd.DataFrame({'M_Reb_EW':np.dot(init_guess,returns_mon1.iloc[i+60])},\n",
    "                                           index = [returns_mon1.index[i+60]])],\n",
    "                                           axis=0)"
   ]
  },
  {
   "cell_type": "code",
   "execution_count": 196,
   "metadata": {},
   "outputs": [],
   "source": [
    "#4\n",
    "BH_OP = pd.DataFrame({'BH_OP':np.dot(inv_value, optimal_weights.iloc[0])},index = inv_value.index).loc['2019-12-31':'2023'].pct_change().dropna()"
   ]
  },
  {
   "cell_type": "code",
   "execution_count": 197,
   "metadata": {},
   "outputs": [],
   "source": [
    "#5\n",
    "BH_EW = pd.DataFrame({'BH_EW':np.dot(inv_value, init_guess)},index = inv_value.index).loc['2019-12-31':'2023'].pct_change().dropna()"
   ]
  },
  {
   "cell_type": "code",
   "execution_count": 198,
   "metadata": {},
   "outputs": [],
   "source": [
    "port_returns = pd.concat([MRoll_Reb_OP, M_Reb_OP, M_Reb_EW,BH_OP, BH_EW], axis=1)"
   ]
  },
  {
   "cell_type": "markdown",
   "metadata": {},
   "source": [
    "#### 3. Create a DataFrame port_stats (with a 3x5 shape) to store the annualized average monthly return, the annualized monthly standard deviation and the Sharpe ratio for all 5 portfolios."
   ]
  },
  {
   "cell_type": "code",
   "execution_count": 199,
   "metadata": {},
   "outputs": [
    {
     "data": {
      "text/html": [
       "<div>\n",
       "<style scoped>\n",
       "    .dataframe tbody tr th:only-of-type {\n",
       "        vertical-align: middle;\n",
       "    }\n",
       "\n",
       "    .dataframe tbody tr th {\n",
       "        vertical-align: top;\n",
       "    }\n",
       "\n",
       "    .dataframe thead th {\n",
       "        text-align: right;\n",
       "    }\n",
       "</style>\n",
       "<table border=\"1\" class=\"dataframe\">\n",
       "  <thead>\n",
       "    <tr style=\"text-align: right;\">\n",
       "      <th></th>\n",
       "      <th>Avg Return</th>\n",
       "      <th>Std</th>\n",
       "      <th>Sharpe</th>\n",
       "    </tr>\n",
       "  </thead>\n",
       "  <tbody>\n",
       "    <tr>\n",
       "      <th>MRoll_Reb_OP</th>\n",
       "      <td>0.409343</td>\n",
       "      <td>0.382744</td>\n",
       "      <td>12.833949</td>\n",
       "    </tr>\n",
       "    <tr>\n",
       "      <th>M_Reb_OP</th>\n",
       "      <td>0.292539</td>\n",
       "      <td>0.346750</td>\n",
       "      <td>10.123893</td>\n",
       "    </tr>\n",
       "    <tr>\n",
       "      <th>M_Reb_EW</th>\n",
       "      <td>0.101748</td>\n",
       "      <td>0.209412</td>\n",
       "      <td>5.830497</td>\n",
       "    </tr>\n",
       "    <tr>\n",
       "      <th>BH_OP</th>\n",
       "      <td>0.240943</td>\n",
       "      <td>0.259589</td>\n",
       "      <td>11.138050</td>\n",
       "    </tr>\n",
       "    <tr>\n",
       "      <th>BH_EW</th>\n",
       "      <td>0.093864</td>\n",
       "      <td>0.203476</td>\n",
       "      <td>5.535621</td>\n",
       "    </tr>\n",
       "  </tbody>\n",
       "</table>\n",
       "</div>"
      ],
      "text/plain": [
       "              Avg Return       Std     Sharpe\n",
       "MRoll_Reb_OP    0.409343  0.382744  12.833949\n",
       "M_Reb_OP        0.292539  0.346750  10.123893\n",
       "M_Reb_EW        0.101748  0.209412   5.830497\n",
       "BH_OP           0.240943  0.259589  11.138050\n",
       "BH_EW           0.093864  0.203476   5.535621"
      ]
     },
     "execution_count": 199,
     "metadata": {},
     "output_type": "execute_result"
    }
   ],
   "source": [
    "port_stats=pd.DataFrame()\n",
    "port_stats['Avg Return']=port_returns.mean()*12\n",
    "port_stats['Std']=port_returns.std()*np.sqrt(12)\n",
    "port_stats['Sharpe']=port_returns.mean()*12/port_returns.std()*np.sqrt(12)\n",
    "port_stats"
   ]
  },
  {
   "cell_type": "markdown",
   "metadata": {},
   "source": [
    "#### 4. Compute the cumulative return series for all portfolios and plot them in the same graph. "
   ]
  },
  {
   "cell_type": "code",
   "execution_count": 200,
   "metadata": {},
   "outputs": [
    {
     "data": {
      "text/plain": [
       "<AxesSubplot: >"
      ]
     },
     "execution_count": 200,
     "metadata": {},
     "output_type": "execute_result"
    },
    {
     "data": {
      "image/png": "[encoded data removed]",
      "text/plain": [
       "<Figure size 640x480 with 1 Axes>"
      ]
     },
     "metadata": {},
     "output_type": "display_data"
    }
   ],
   "source": [
    "cum_sum=port_returns.cumsum()\n",
    "cum_sum.plot()"
   ]
  },
  {
   "cell_type": "markdown",
   "metadata": {},
   "source": [
    "#### 5. What was the cumulative return for the best performing portfolio? What was the cumulative return for the worst performing portfolio?"
   ]
  },
  {
   "cell_type": "code",
   "execution_count": 201,
   "metadata": {},
   "outputs": [],
   "source": [
    "cum_sum_best=port_returns.add(1).prod().sub(1).cumsum().max()\n",
    "cum_sum_worst=port_returns.add(1).prod().sub(1).cumsum().min()"
   ]
  },
  {
   "cell_type": "markdown",
   "metadata": {},
   "source": [
    "### PART III - Examination of the Size Effect"
   ]
  },
  {
   "cell_type": "markdown",
   "metadata": {},
   "source": [
    "Please download the file \"crsp_fall22.csv\" located in folder Group_Assignment. The file contains the following columns:\n",
    "* PERMNO - Permanent number (unique identifer for the stock)\n",
    "* DATE\n",
    "* PRC - The closing price\n",
    "* VOL - Trading volume (in hundreds)\n",
    "* RET - The simple return\n",
    "* SHROUT - The number of shares outstanding (in thousands)\n",
    "* CFACPR - Cumulative factor to adjust the closing price\n",
    "* CFACSHR - Cumulative factor to adjust shares outstanding"
   ]
  },
  {
   "cell_type": "markdown",
   "metadata": {
    "tags": []
   },
   "source": [
    "#### 1. Create a DataFrame named fin_data by reading in the columns DATE, PERMNO, RET, PRC and SHROUT from the file 'crsp_fall22.csv'. Set the DATE as the index. In addition, change each index value to the end of the month. For example, change '1926-05-30' to 1926-05-31', or '1987-01-30' to '1987-01-31'. In addition, create a new column (labeled MKTCAP) to store the market capitalization (defined as PRC * SHROUT). Subsequently, permanently remove the PRC and SHROUT columns."
   ]
  },
  {
   "cell_type": "code",
   "execution_count": 202,
   "metadata": {},
   "outputs": [],
   "source": [
    "fin_data=pd.read_csv('crsp_fall22.csv',\n",
    "                     usecols=['DATE','PERMNO','RET','PRC','SHROUT'],\n",
    "                     dtype={'PERMNO':np.int64},\n",
    "                     index_col='DATE',\n",
    "                     parse_dates=True)\n",
    "fin_data.index=fin_data.index+pd.offsets.MonthEnd(0)\n",
    "fin_data['MKTCAP']=fin_data['PRC']*fin_data['SHROUT']\n",
    "fin_data.drop(['PRC','SHROUT'],axis=1,inplace=True)"
   ]
  },
  {
   "cell_type": "markdown",
   "metadata": {},
   "source": [
    "#### 2. How many stocks are there in the sample? How many of these stocks are in the sample over the entire sample period?"
   ]
  },
  {
   "cell_type": "code",
   "execution_count": 203,
   "metadata": {},
   "outputs": [
    {
     "data": {
      "text/plain": [
       "18153"
      ]
     },
     "execution_count": 203,
     "metadata": {},
     "output_type": "execute_result"
    }
   ],
   "source": [
    "num_stocks = fin_data['PERMNO'].nunique()\n",
    "num_stocks"
   ]
  },
  {
   "cell_type": "code",
   "execution_count": 204,
   "metadata": {},
   "outputs": [
    {
     "data": {
      "text/plain": [
       "697"
      ]
     },
     "execution_count": 204,
     "metadata": {},
     "output_type": "execute_result"
    }
   ],
   "source": [
    "entire_smpl_per = len(fin_data.index.unique())\n",
    "permno_ct= fin_data.reset_index().groupby('PERMNO').agg({'DATE':'nunique'})\n",
    "full_period_stocks= sum(permno_ct['DATE'] == entire_smpl_per)\n",
    "\n",
    "full_period_stocks"
   ]
  },
  {
   "cell_type": "markdown",
   "metadata": {
    "tags": []
   },
   "source": [
    "#### 3. Every June, split the stocks into quintiles (five groups) based on their market capitalization. The header of a DataFrame named size_qt with the resulting split can be found below. "
   ]
  },
  {
   "cell_type": "code",
   "execution_count": 220,
   "metadata": {
    "tags": []
   },
   "outputs": [],
   "source": [
    "mktcap = fin_data[['PERMNO','MKTCAP']]"
   ]
  },
  {
   "cell_type": "code",
   "execution_count": 221,
   "metadata": {},
   "outputs": [],
   "source": [
    "size_qt=mktcap[mktcap.index.month==6].copy()\n",
    "size_qt['MKTCAP_QT']=size_qt.groupby('DATE')['MKTCAP'].transform(lambda x:pd.qcut(x,5,labels=['1','2','3','4','5']))"
   ]
  },
  {
   "cell_type": "code",
   "execution_count": 229,
   "metadata": {},
   "outputs": [
    {
     "data": {
      "text/html": [
       "<div>\n",
       "<style scoped>\n",
       "    .dataframe tbody tr th:only-of-type {\n",
       "        vertical-align: middle;\n",
       "    }\n",
       "\n",
       "    .dataframe tbody tr th {\n",
       "        vertical-align: top;\n",
       "    }\n",
       "\n",
       "    .dataframe thead th {\n",
       "        text-align: right;\n",
       "    }\n",
       "</style>\n",
       "<table border=\"1\" class=\"dataframe\">\n",
       "  <thead>\n",
       "    <tr style=\"text-align: right;\">\n",
       "      <th></th>\n",
       "      <th>PERMNO</th>\n",
       "      <th>MKTCAP_QT</th>\n",
       "    </tr>\n",
       "    <tr>\n",
       "      <th>DATE</th>\n",
       "      <th></th>\n",
       "      <th></th>\n",
       "    </tr>\n",
       "  </thead>\n",
       "  <tbody>\n",
       "    <tr>\n",
       "      <th>1990-06-30</th>\n",
       "      <td>10294</td>\n",
       "      <td>3</td>\n",
       "    </tr>\n",
       "    <tr>\n",
       "      <th>1990-06-30</th>\n",
       "      <td>65496</td>\n",
       "      <td>3</td>\n",
       "    </tr>\n",
       "    <tr>\n",
       "      <th>1990-06-30</th>\n",
       "      <td>10905</td>\n",
       "      <td>2</td>\n",
       "    </tr>\n",
       "    <tr>\n",
       "      <th>1990-06-30</th>\n",
       "      <td>32037</td>\n",
       "      <td>1</td>\n",
       "    </tr>\n",
       "    <tr>\n",
       "      <th>1990-06-30</th>\n",
       "      <td>66288</td>\n",
       "      <td>5</td>\n",
       "    </tr>\n",
       "    <tr>\n",
       "      <th>...</th>\n",
       "      <td>...</td>\n",
       "      <td>...</td>\n",
       "    </tr>\n",
       "    <tr>\n",
       "      <th>2021-06-30</th>\n",
       "      <td>20799</td>\n",
       "      <td>2</td>\n",
       "    </tr>\n",
       "    <tr>\n",
       "      <th>2021-06-30</th>\n",
       "      <td>14054</td>\n",
       "      <td>5</td>\n",
       "    </tr>\n",
       "    <tr>\n",
       "      <th>2021-06-30</th>\n",
       "      <td>20189</td>\n",
       "      <td>5</td>\n",
       "    </tr>\n",
       "    <tr>\n",
       "      <th>2021-06-30</th>\n",
       "      <td>20126</td>\n",
       "      <td>3</td>\n",
       "    </tr>\n",
       "    <tr>\n",
       "      <th>2021-06-30</th>\n",
       "      <td>77217</td>\n",
       "      <td>3</td>\n",
       "    </tr>\n",
       "  </tbody>\n",
       "</table>\n",
       "<p>159735 rows × 2 columns</p>\n",
       "</div>"
      ],
      "text/plain": [
       "            PERMNO MKTCAP_QT\n",
       "DATE                        \n",
       "1990-06-30   10294         3\n",
       "1990-06-30   65496         3\n",
       "1990-06-30   10905         2\n",
       "1990-06-30   32037         1\n",
       "1990-06-30   66288         5\n",
       "...            ...       ...\n",
       "2021-06-30   20799         2\n",
       "2021-06-30   14054         5\n",
       "2021-06-30   20189         5\n",
       "2021-06-30   20126         3\n",
       "2021-06-30   77217         3\n",
       "\n",
       "[159735 rows x 2 columns]"
      ]
     },
     "execution_count": 229,
     "metadata": {},
     "output_type": "execute_result"
    }
   ],
   "source": [
    "size_qt.reset_index().set_index(['DATE']).sort_index()\n",
    "size_qt.drop('MKTCAP',axis=1)"
   ]
  },
  {
   "cell_type": "markdown",
   "metadata": {
    "tags": []
   },
   "source": [
    "#### 4. Create a new DataFrame named data by using the merge_asof() function to merge the DataFrames fin_data and size_qt. Specifically, merge each stock's June quintile allocation with the stock's monthly returns for the next 12 months starting the following July. Subsequently, set DATE as the index in the DataFrame."
   ]
  },
  {
   "cell_type": "code",
   "execution_count": 235,
   "metadata": {},
   "outputs": [
    {
     "ename": "SyntaxError",
     "evalue": "invalid syntax (132558901.py, line 4)",
     "output_type": "error",
     "traceback": [
      "\u001b[0;36m  File \u001b[0;32m\"/var/folders/p0/0pr790wj2t36wts0lzv256s80000gn/T/ipykernel_42002/132558901.py\"\u001b[0;36m, line \u001b[0;32m4\u001b[0m\n\u001b[0;31m    data.drop([:,0],axis=1,inplace=True)\u001b[0m\n\u001b[0m               ^\u001b[0m\n\u001b[0;31mSyntaxError\u001b[0m\u001b[0;31m:\u001b[0m invalid syntax\n"
     ]
    }
   ],
   "source": [
    "data=pd.DataFrame()\n",
    "data=pd.merge_asof(fin_data.sort_index(),size_qt.sort_index(),by='PERMNO',on='DATE').dropna()\n",
    "data.drop(['MKTCAP_x','MKTCAP_y'],axis=1,inplace=True)\n",
    "data=data.loc[data.index.month==7].resample('M').mean().dropna()\n",
    "data"
   ]
  },
  {
   "cell_type": "markdown",
   "metadata": {},
   "source": [
    "#### 5. Create a new DataFrame called quintiles to store the average monthly return for each quintile. The header of the DataFrame can be found below:"
   ]
  },
  {
   "cell_type": "code",
   "execution_count": null,
   "metadata": {},
   "outputs": [],
   "source": []
  },
  {
   "cell_type": "code",
   "execution_count": 105,
   "metadata": {},
   "outputs": [
    {
     "data": {
      "text/html": [
       "<div>\n",
       "<style scoped>\n",
       "    .dataframe tbody tr th:only-of-type {\n",
       "        vertical-align: middle;\n",
       "    }\n",
       "\n",
       "    .dataframe tbody tr th {\n",
       "        vertical-align: top;\n",
       "    }\n",
       "\n",
       "    .dataframe thead th {\n",
       "        text-align: right;\n",
       "    }\n",
       "</style>\n",
       "<table border=\"1\" class=\"dataframe\">\n",
       "  <thead>\n",
       "    <tr style=\"text-align: right;\">\n",
       "      <th></th>\n",
       "      <th>Q1_RET</th>\n",
       "      <th>Q2_RET</th>\n",
       "      <th>Q3_RET</th>\n",
       "      <th>Q4_RET</th>\n",
       "      <th>Q5_RET</th>\n",
       "    </tr>\n",
       "    <tr>\n",
       "      <th>DATE</th>\n",
       "      <th></th>\n",
       "      <th></th>\n",
       "      <th></th>\n",
       "      <th></th>\n",
       "      <th></th>\n",
       "    </tr>\n",
       "  </thead>\n",
       "  <tbody>\n",
       "    <tr>\n",
       "      <th>1990-07-31</th>\n",
       "      <td>-0.001078</td>\n",
       "      <td>-0.041629</td>\n",
       "      <td>-0.044858</td>\n",
       "      <td>-0.040050</td>\n",
       "      <td>-0.028895</td>\n",
       "    </tr>\n",
       "    <tr>\n",
       "      <th>1990-08-31</th>\n",
       "      <td>-0.088672</td>\n",
       "      <td>-0.111944</td>\n",
       "      <td>-0.134610</td>\n",
       "      <td>-0.132793</td>\n",
       "      <td>-0.110817</td>\n",
       "    </tr>\n",
       "    <tr>\n",
       "      <th>1990-09-30</th>\n",
       "      <td>-0.045567</td>\n",
       "      <td>-0.090744</td>\n",
       "      <td>-0.092048</td>\n",
       "      <td>-0.099917</td>\n",
       "      <td>-0.080715</td>\n",
       "    </tr>\n",
       "    <tr>\n",
       "      <th>1990-10-31</th>\n",
       "      <td>-0.071408</td>\n",
       "      <td>-0.064675</td>\n",
       "      <td>-0.069424</td>\n",
       "      <td>-0.060729</td>\n",
       "      <td>-0.039041</td>\n",
       "    </tr>\n",
       "    <tr>\n",
       "      <th>1990-11-30</th>\n",
       "      <td>-0.011988</td>\n",
       "      <td>0.002373</td>\n",
       "      <td>0.033031</td>\n",
       "      <td>0.070116</td>\n",
       "      <td>0.099023</td>\n",
       "    </tr>\n",
       "  </tbody>\n",
       "</table>\n",
       "</div>"
      ],
      "text/plain": [
       "              Q1_RET    Q2_RET    Q3_RET    Q4_RET    Q5_RET\n",
       "DATE                                                        \n",
       "1990-07-31 -0.001078 -0.041629 -0.044858 -0.040050 -0.028895\n",
       "1990-08-31 -0.088672 -0.111944 -0.134610 -0.132793 -0.110817\n",
       "1990-09-30 -0.045567 -0.090744 -0.092048 -0.099917 -0.080715\n",
       "1990-10-31 -0.071408 -0.064675 -0.069424 -0.060729 -0.039041\n",
       "1990-11-30 -0.011988  0.002373  0.033031  0.070116  0.099023"
      ]
     },
     "execution_count": 105,
     "metadata": {},
     "output_type": "execute_result"
    }
   ],
   "source": [
    "quintiles.head()"
   ]
  },
  {
   "cell_type": "markdown",
   "metadata": {},
   "source": [
    "#### 6. Create a bar plot of the average monthly return for all five market capitalization groups, across the entire sample."
   ]
  },
  {
   "cell_type": "code",
   "execution_count": null,
   "metadata": {},
   "outputs": [],
   "source": []
  },
  {
   "cell_type": "markdown",
   "metadata": {},
   "source": [
    "#### 7. Create a line plot of the cumulative return series for all five market capitalization groups."
   ]
  },
  {
   "cell_type": "code",
   "execution_count": null,
   "metadata": {},
   "outputs": [],
   "source": []
  }
 ],
 "metadata": {
  "anaconda-cloud": {},
  "kernelspec": {
   "display_name": "Python 3 (ipykernel)",
   "language": "python",
   "name": "python3"
  },
  "language_info": {
   "codemirror_mode": {
    "name": "ipython",
    "version": 3
   },
   "file_extension": ".py",
   "mimetype": "text/x-python",
   "name": "python",
   "nbconvert_exporter": "python",
   "pygments_lexer": "ipython3",
   "version": "3.9.15"
  }
 },
 "nbformat": 4,
 "nbformat_minor": 4
}
