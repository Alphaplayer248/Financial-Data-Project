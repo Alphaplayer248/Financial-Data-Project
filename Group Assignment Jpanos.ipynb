{
 "cells": [
  {
   "cell_type": "markdown",
   "metadata": {},
   "source": [
    "## Group Assignment"
   ]
  },
  {
   "cell_type": "markdown",
   "metadata": {},
   "source": [
    "#### Import the necessary libraries"
   ]
  },
  {
   "cell_type": "code",
   "execution_count": 6,
   "metadata": {},
   "outputs": [],
   "source": [
    "import numpy as np\n",
    "import pandas as pd\n",
    "\n",
    "import datetime as dt\n",
    "import yfinance as yf\n",
    "import pandas_datareader.data as web\n",
    "\n",
    "import matplotlib.pyplot as plt\n",
    "%matplotlib inline\n",
    "%config InlineBackend.figure_format = 'retina'\n",
    "\n",
    "from scipy.optimize import minimize"
   ]
  },
  {
   "cell_type": "markdown",
   "metadata": {},
   "source": [
    "#### All questions in Parts I and II apply to a random sample of 15 stocks that your group will be assigned by running the following code."
   ]
  },
  {
   "cell_type": "markdown",
   "metadata": {},
   "source": [
    "#### Random Sample Selection "
   ]
  },
  {
   "cell_type": "code",
   "execution_count": 7,
   "metadata": {},
   "outputs": [
    {
     "name": "stdout",
     "output_type": "stream",
     "text": [
      "These are the fifteen stocks assigned to you: DIS PG V UNH CSCO PFE JPM AXP JNJ INTC KO CAT WMT CVX XOM\n"
     ]
    }
   ],
   "source": [
    "np.random.seed (2051 + 6)\n",
    "ticker_list = ['AAPL', 'AXP', 'BA', 'C','CAT', 'CSCO', 'CVX', 'DIS', 'GS', 'HD', 'IBM', 'INTC', 'JNJ', 'JPM', 'KO',\n",
    "            'MCD', 'MMM', 'MRK', 'MSFT', 'NKE', 'PFE', 'PG', 'TRV', 'UNH', 'V', 'VZ', 'WMT', 'XOM']\n",
    "\n",
    "stock_list = np.random.choice(ticker_list,15,replace=False)\n",
    "print(f'These are the fifteen stocks assigned to you: {\" \".join(stock_list)}')"
   ]
  },
  {
   "cell_type": "code",
   "execution_count": null,
   "metadata": {},
   "outputs": [],
   "source": []
  },
  {
   "cell_type": "markdown",
   "metadata": {},
   "source": [
    "### PART I"
   ]
  },
  {
   "cell_type": "markdown",
   "metadata": {
    "tags": []
   },
   "source": [
    "#### 1. Find the optimal portfolio over the period January 2015 - December 2019, using the fifteen stocks assigned to your group. Assume there are no short-selling constraints."
   ]
  },
  {
   "cell_type": "code",
   "execution_count": 12,
   "metadata": {},
   "outputs": [],
   "source": [
    "start = dt.datetime(2015,1,1)\n",
    "end = dt.datetime(2019,12,31)\n",
    "\n",
    "ticker_list= ['DIS', 'PG', 'V', 'UNH', 'CSCO', 'PFE', 'JPM', 'AXP', 'JNJ', 'INTC', 'KO', 'CAT', 'WMT', 'CVX', 'XOM']\n",
    "\n"
   ]
  },
  {
   "cell_type": "code",
   "execution_count": 13,
   "metadata": {},
   "outputs": [
    {
     "name": "stdout",
     "output_type": "stream",
     "text": [
      "[*********************100%***********************]  15 of 15 completed\n"
     ]
    }
   ],
   "source": [
    "returns = yf.download(ticker_list,start-pd.offsets.BDay(1),end)['Adj Close'].pct_change().dropna()"
   ]
  },
  {
   "cell_type": "code",
   "execution_count": 14,
   "metadata": {},
   "outputs": [
    {
     "data": {
      "text/html": [
       "<div>\n",
       "<style scoped>\n",
       "    .dataframe tbody tr th:only-of-type {\n",
       "        vertical-align: middle;\n",
       "    }\n",
       "\n",
       "    .dataframe tbody tr th {\n",
       "        vertical-align: top;\n",
       "    }\n",
       "\n",
       "    .dataframe thead th {\n",
       "        text-align: right;\n",
       "    }\n",
       "</style>\n",
       "<table border=\"1\" class=\"dataframe\">\n",
       "  <thead>\n",
       "    <tr style=\"text-align: right;\">\n",
       "      <th></th>\n",
       "      <th>AXP</th>\n",
       "      <th>CAT</th>\n",
       "      <th>CSCO</th>\n",
       "      <th>CVX</th>\n",
       "      <th>DIS</th>\n",
       "      <th>INTC</th>\n",
       "      <th>JNJ</th>\n",
       "      <th>JPM</th>\n",
       "      <th>KO</th>\n",
       "      <th>PFE</th>\n",
       "      <th>PG</th>\n",
       "      <th>UNH</th>\n",
       "      <th>V</th>\n",
       "      <th>WMT</th>\n",
       "      <th>XOM</th>\n",
       "    </tr>\n",
       "    <tr>\n",
       "      <th>Date</th>\n",
       "      <th></th>\n",
       "      <th></th>\n",
       "      <th></th>\n",
       "      <th></th>\n",
       "      <th></th>\n",
       "      <th></th>\n",
       "      <th></th>\n",
       "      <th></th>\n",
       "      <th></th>\n",
       "      <th></th>\n",
       "      <th></th>\n",
       "      <th></th>\n",
       "      <th></th>\n",
       "      <th></th>\n",
       "      <th></th>\n",
       "    </tr>\n",
       "  </thead>\n",
       "  <tbody>\n",
       "    <tr>\n",
       "      <th>2015-01-02</th>\n",
       "      <td>-0.000215</td>\n",
       "      <td>0.003824</td>\n",
       "      <td>-0.000723</td>\n",
       "      <td>0.003566</td>\n",
       "      <td>-0.004672</td>\n",
       "      <td>0.001929</td>\n",
       "      <td>-0.000478</td>\n",
       "      <td>0.004986</td>\n",
       "      <td>-0.001895</td>\n",
       "      <td>0.005779</td>\n",
       "      <td>-0.007135</td>\n",
       "      <td>-0.003067</td>\n",
       "      <td>0.010755</td>\n",
       "      <td>0.000232</td>\n",
       "      <td>0.004110</td>\n",
       "    </tr>\n",
       "    <tr>\n",
       "      <th>2015-01-05</th>\n",
       "      <td>-0.026446</td>\n",
       "      <td>-0.052786</td>\n",
       "      <td>-0.019920</td>\n",
       "      <td>-0.039972</td>\n",
       "      <td>-0.014613</td>\n",
       "      <td>-0.011276</td>\n",
       "      <td>-0.006984</td>\n",
       "      <td>-0.031045</td>\n",
       "      <td>0.000000</td>\n",
       "      <td>-0.005426</td>\n",
       "      <td>-0.004755</td>\n",
       "      <td>-0.016471</td>\n",
       "      <td>-0.022074</td>\n",
       "      <td>-0.002910</td>\n",
       "      <td>-0.027362</td>\n",
       "    </tr>\n",
       "    <tr>\n",
       "      <th>2015-01-06</th>\n",
       "      <td>-0.021312</td>\n",
       "      <td>-0.006435</td>\n",
       "      <td>-0.000370</td>\n",
       "      <td>-0.000462</td>\n",
       "      <td>-0.005304</td>\n",
       "      <td>-0.018637</td>\n",
       "      <td>-0.004914</td>\n",
       "      <td>-0.025929</td>\n",
       "      <td>0.007594</td>\n",
       "      <td>0.008344</td>\n",
       "      <td>-0.004555</td>\n",
       "      <td>-0.002018</td>\n",
       "      <td>-0.006444</td>\n",
       "      <td>0.007706</td>\n",
       "      <td>-0.005316</td>\n",
       "    </tr>\n",
       "    <tr>\n",
       "      <th>2015-01-07</th>\n",
       "      <td>0.021840</td>\n",
       "      <td>0.015497</td>\n",
       "      <td>0.009242</td>\n",
       "      <td>-0.000833</td>\n",
       "      <td>0.010230</td>\n",
       "      <td>0.020975</td>\n",
       "      <td>0.022076</td>\n",
       "      <td>0.001526</td>\n",
       "      <td>0.012482</td>\n",
       "      <td>0.013685</td>\n",
       "      <td>0.005245</td>\n",
       "      <td>0.010211</td>\n",
       "      <td>0.013398</td>\n",
       "      <td>0.026532</td>\n",
       "      <td>0.010133</td>\n",
       "    </tr>\n",
       "    <tr>\n",
       "      <th>2015-01-08</th>\n",
       "      <td>0.014175</td>\n",
       "      <td>0.010249</td>\n",
       "      <td>0.007693</td>\n",
       "      <td>0.022883</td>\n",
       "      <td>0.010341</td>\n",
       "      <td>0.018601</td>\n",
       "      <td>0.007863</td>\n",
       "      <td>0.022346</td>\n",
       "      <td>0.012095</td>\n",
       "      <td>0.020409</td>\n",
       "      <td>0.011435</td>\n",
       "      <td>0.047733</td>\n",
       "      <td>0.013412</td>\n",
       "      <td>0.021106</td>\n",
       "      <td>0.016645</td>\n",
       "    </tr>\n",
       "  </tbody>\n",
       "</table>\n",
       "</div>"
      ],
      "text/plain": [
       "                 AXP       CAT      CSCO       CVX       DIS      INTC  \\\n",
       "Date                                                                     \n",
       "2015-01-02 -0.000215  0.003824 -0.000723  0.003566 -0.004672  0.001929   \n",
       "2015-01-05 -0.026446 -0.052786 -0.019920 -0.039972 -0.014613 -0.011276   \n",
       "2015-01-06 -0.021312 -0.006435 -0.000370 -0.000462 -0.005304 -0.018637   \n",
       "2015-01-07  0.021840  0.015497  0.009242 -0.000833  0.010230  0.020975   \n",
       "2015-01-08  0.014175  0.010249  0.007693  0.022883  0.010341  0.018601   \n",
       "\n",
       "                 JNJ       JPM        KO       PFE        PG       UNH  \\\n",
       "Date                                                                     \n",
       "2015-01-02 -0.000478  0.004986 -0.001895  0.005779 -0.007135 -0.003067   \n",
       "2015-01-05 -0.006984 -0.031045  0.000000 -0.005426 -0.004755 -0.016471   \n",
       "2015-01-06 -0.004914 -0.025929  0.007594  0.008344 -0.004555 -0.002018   \n",
       "2015-01-07  0.022076  0.001526  0.012482  0.013685  0.005245  0.010211   \n",
       "2015-01-08  0.007863  0.022346  0.012095  0.020409  0.011435  0.047733   \n",
       "\n",
       "                   V       WMT       XOM  \n",
       "Date                                      \n",
       "2015-01-02  0.010755  0.000232  0.004110  \n",
       "2015-01-05 -0.022074 -0.002910 -0.027362  \n",
       "2015-01-06 -0.006444  0.007706 -0.005316  \n",
       "2015-01-07  0.013398  0.026532  0.010133  \n",
       "2015-01-08  0.013412  0.021106  0.016645  "
      ]
     },
     "execution_count": 14,
     "metadata": {},
     "output_type": "execute_result"
    }
   ],
   "source": [
    "returns.head()"
   ]
  },
  {
   "cell_type": "code",
   "execution_count": 15,
   "metadata": {},
   "outputs": [
    {
     "data": {
      "text/html": [
       "<div>\n",
       "<style scoped>\n",
       "    .dataframe tbody tr th:only-of-type {\n",
       "        vertical-align: middle;\n",
       "    }\n",
       "\n",
       "    .dataframe tbody tr th {\n",
       "        vertical-align: top;\n",
       "    }\n",
       "\n",
       "    .dataframe thead th {\n",
       "        text-align: right;\n",
       "    }\n",
       "</style>\n",
       "<table border=\"1\" class=\"dataframe\">\n",
       "  <thead>\n",
       "    <tr style=\"text-align: right;\">\n",
       "      <th></th>\n",
       "      <th>AXP</th>\n",
       "      <th>CAT</th>\n",
       "      <th>CSCO</th>\n",
       "      <th>CVX</th>\n",
       "      <th>DIS</th>\n",
       "      <th>INTC</th>\n",
       "      <th>JNJ</th>\n",
       "      <th>JPM</th>\n",
       "      <th>KO</th>\n",
       "      <th>PFE</th>\n",
       "      <th>PG</th>\n",
       "      <th>UNH</th>\n",
       "      <th>V</th>\n",
       "      <th>WMT</th>\n",
       "      <th>XOM</th>\n",
       "    </tr>\n",
       "    <tr>\n",
       "      <th>Date</th>\n",
       "      <th></th>\n",
       "      <th></th>\n",
       "      <th></th>\n",
       "      <th></th>\n",
       "      <th></th>\n",
       "      <th></th>\n",
       "      <th></th>\n",
       "      <th></th>\n",
       "      <th></th>\n",
       "      <th></th>\n",
       "      <th></th>\n",
       "      <th></th>\n",
       "      <th></th>\n",
       "      <th></th>\n",
       "      <th></th>\n",
       "    </tr>\n",
       "  </thead>\n",
       "  <tbody>\n",
       "    <tr>\n",
       "      <th>2019-08-31</th>\n",
       "      <td>-0.032162</td>\n",
       "      <td>-0.096225</td>\n",
       "      <td>-0.155054</td>\n",
       "      <td>-0.033952</td>\n",
       "      <td>-0.040207</td>\n",
       "      <td>-0.055784</td>\n",
       "      <td>-0.006897</td>\n",
       "      <td>-0.052931</td>\n",
       "      <td>0.045791</td>\n",
       "      <td>-0.076143</td>\n",
       "      <td>0.018553</td>\n",
       "      <td>-0.060279</td>\n",
       "      <td>0.017308</td>\n",
       "      <td>0.040247</td>\n",
       "      <td>-0.067624</td>\n",
       "    </tr>\n",
       "    <tr>\n",
       "      <th>2019-09-30</th>\n",
       "      <td>-0.017363</td>\n",
       "      <td>0.061428</td>\n",
       "      <td>0.055544</td>\n",
       "      <td>0.007475</td>\n",
       "      <td>-0.050561</td>\n",
       "      <td>0.086901</td>\n",
       "      <td>0.007946</td>\n",
       "      <td>0.071273</td>\n",
       "      <td>-0.003670</td>\n",
       "      <td>0.010689</td>\n",
       "      <td>0.034517</td>\n",
       "      <td>-0.066902</td>\n",
       "      <td>-0.048722</td>\n",
       "      <td>0.038684</td>\n",
       "      <td>0.031104</td>\n",
       "    </tr>\n",
       "    <tr>\n",
       "      <th>2019-10-31</th>\n",
       "      <td>-0.004662</td>\n",
       "      <td>0.099542</td>\n",
       "      <td>-0.031171</td>\n",
       "      <td>-0.020742</td>\n",
       "      <td>-0.003069</td>\n",
       "      <td>0.097031</td>\n",
       "      <td>0.020560</td>\n",
       "      <td>0.069935</td>\n",
       "      <td>-0.000184</td>\n",
       "      <td>0.067910</td>\n",
       "      <td>0.007440</td>\n",
       "      <td>0.162801</td>\n",
       "      <td>0.039823</td>\n",
       "      <td>-0.011965</td>\n",
       "      <td>-0.043054</td>\n",
       "    </tr>\n",
       "    <tr>\n",
       "      <th>2019-11-30</th>\n",
       "      <td>0.024216</td>\n",
       "      <td>0.050290</td>\n",
       "      <td>-0.046306</td>\n",
       "      <td>0.018462</td>\n",
       "      <td>0.166718</td>\n",
       "      <td>0.032540</td>\n",
       "      <td>0.048490</td>\n",
       "      <td>0.054755</td>\n",
       "      <td>-0.011595</td>\n",
       "      <td>0.013611</td>\n",
       "      <td>-0.019677</td>\n",
       "      <td>0.107519</td>\n",
       "      <td>0.033317</td>\n",
       "      <td>0.015606</td>\n",
       "      <td>0.020447</td>\n",
       "    </tr>\n",
       "    <tr>\n",
       "      <th>2019-12-31</th>\n",
       "      <td>0.034799</td>\n",
       "      <td>0.019277</td>\n",
       "      <td>0.050320</td>\n",
       "      <td>0.023222</td>\n",
       "      <td>-0.045841</td>\n",
       "      <td>0.027046</td>\n",
       "      <td>0.056804</td>\n",
       "      <td>0.052141</td>\n",
       "      <td>0.035019</td>\n",
       "      <td>0.010125</td>\n",
       "      <td>0.019744</td>\n",
       "      <td>0.053988</td>\n",
       "      <td>0.017993</td>\n",
       "      <td>0.007100</td>\n",
       "      <td>0.019815</td>\n",
       "    </tr>\n",
       "  </tbody>\n",
       "</table>\n",
       "</div>"
      ],
      "text/plain": [
       "                 AXP       CAT      CSCO       CVX       DIS      INTC  \\\n",
       "Date                                                                     \n",
       "2019-08-31 -0.032162 -0.096225 -0.155054 -0.033952 -0.040207 -0.055784   \n",
       "2019-09-30 -0.017363  0.061428  0.055544  0.007475 -0.050561  0.086901   \n",
       "2019-10-31 -0.004662  0.099542 -0.031171 -0.020742 -0.003069  0.097031   \n",
       "2019-11-30  0.024216  0.050290 -0.046306  0.018462  0.166718  0.032540   \n",
       "2019-12-31  0.034799  0.019277  0.050320  0.023222 -0.045841  0.027046   \n",
       "\n",
       "                 JNJ       JPM        KO       PFE        PG       UNH  \\\n",
       "Date                                                                     \n",
       "2019-08-31 -0.006897 -0.052931  0.045791 -0.076143  0.018553 -0.060279   \n",
       "2019-09-30  0.007946  0.071273 -0.003670  0.010689  0.034517 -0.066902   \n",
       "2019-10-31  0.020560  0.069935 -0.000184  0.067910  0.007440  0.162801   \n",
       "2019-11-30  0.048490  0.054755 -0.011595  0.013611 -0.019677  0.107519   \n",
       "2019-12-31  0.056804  0.052141  0.035019  0.010125  0.019744  0.053988   \n",
       "\n",
       "                   V       WMT       XOM  \n",
       "Date                                      \n",
       "2019-08-31  0.017308  0.040247 -0.067624  \n",
       "2019-09-30 -0.048722  0.038684  0.031104  \n",
       "2019-10-31  0.039823 -0.011965 -0.043054  \n",
       "2019-11-30  0.033317  0.015606  0.020447  \n",
       "2019-12-31  0.017993  0.007100  0.019815  "
      ]
     },
     "execution_count": 15,
     "metadata": {},
     "output_type": "execute_result"
    }
   ],
   "source": [
    "returns_mon = returns.resample(rule = 'M').apply(lambda x: x.add(1).prod().sub(1))\n",
    "returns_mon.tail()"
   ]
  },
  {
   "cell_type": "code",
   "execution_count": 56,
   "metadata": {},
   "outputs": [],
   "source": [
    "rf = web.DataReader('F-F_Research_Data_Factors','famafrench', start, end)[0][['RF']].div(100)\n"
   ]
  },
  {
   "cell_type": "code",
   "execution_count": null,
   "metadata": {},
   "outputs": [],
   "source": []
  },
  {
   "cell_type": "code",
   "execution_count": 57,
   "metadata": {
    "tags": []
   },
   "outputs": [],
   "source": [
    "# Define the portfolio returns function\n",
    "def port_ret(weights):\n",
    "    port_ret = np.dot(returns_mon*12,weights).mean()\n",
    "    return port_ret\n",
    "\n",
    "# Define the portfolio standard deviation function\n",
    "def port_std(weights):\n",
    "    port_std = np.sqrt(np.dot(weights, np.dot(returns_mon.cov()*12, weights)))\n",
    "    return port_std\n",
    "\n",
    "# Define the excess portfolio returns function\n",
    "def ex_port_ret(weights):\n",
    "    ex_port_ret = (np.dot(returns_mon,weights) - rf['RF']).mean()*12\n",
    "    return ex_port_ret\n",
    "\n",
    "# Define the excess portfolio standard deviation function\n",
    "def ex_port_std(weights):\n",
    "    ex_port_std = (np.dot(returns_mon,weights) - rf['RF']).std()*np.sqrt(12)\n",
    "    return ex_port_std\n",
    "\n",
    "# Define the negative Sharpe Ratio function that we will minimize\n",
    "def neg_SR(weights):\n",
    "    SR = ex_port_ret(weights) / ex_port_std(weights)\n",
    "    return (-1)*SR"
   ]
  },
  {
   "cell_type": "code",
   "execution_count": 23,
   "metadata": {},
   "outputs": [],
   "source": [
    "# By convention of minimize function it should be a function that returns zero for conditions\n",
    "constraints = ({'type':'eq','fun': lambda weights: np.sum(weights) - 1})\n",
    "\n",
    "# Weights must be between 0 and 1\n",
    "boundaries=[(0,1)]\n",
    "bounds = tuple(boundaries * len(returns_mon.columns))\n",
    "\n",
    "# Initial Guess (equally weighted)\n",
    "init_guess = np.full(len(returns_mon.columns), 1/len(returns_mon.columns))"
   ]
  },
  {
   "cell_type": "code",
   "execution_count": 24,
   "metadata": {},
   "outputs": [
    {
     "data": {
      "text/plain": [
       "     fun: -2.3198714741313973\n",
       "     jac: array([-0.05631357, -0.05625206, -0.05705136, -0.05622023, -0.0565168 ,\n",
       "       -0.05642939, -0.05635992, -0.05633405, -0.05606759, -0.05678248,\n",
       "       -0.05644104, -0.05635372, -0.05691686, -0.05587357, -0.05629501])\n",
       " message: 'Optimization terminated successfully'\n",
       "    nfev: 259\n",
       "     nit: 16\n",
       "    njev: 16\n",
       "  status: 0\n",
       " success: True\n",
       "       x: array([-4.87455844e-01,  2.96799878e-04,  2.08813244e-02,  2.15295027e-01,\n",
       "       -1.97080510e-01,  5.81793342e-02,  2.45194042e-02,  5.18674086e-01,\n",
       "       -1.17409375e-01, -2.95323871e-01,  3.23590968e-01,  5.93982296e-01,\n",
       "        8.61698920e-01,  4.35989933e-02, -5.63447553e-01])"
      ]
     },
     "execution_count": 24,
     "metadata": {},
     "output_type": "execute_result"
    }
   ],
   "source": [
    "# Optimal Portfolio (OP)\n",
    "optimal_port = minimize(neg_SR,init_guess,#bounds = bounds,\n",
    "                        constraints=constraints)\n",
    "optimal_port"
   ]
  },
  {
   "cell_type": "markdown",
   "metadata": {},
   "source": [
    "#### 2. What are the weights of the stocks in the optimal portfolio?"
   ]
  },
  {
   "cell_type": "code",
   "execution_count": 25,
   "metadata": {},
   "outputs": [
    {
     "name": "stdout",
     "output_type": "stream",
     "text": [
      "DIS  -0.4875  PG  0.0003  V  0.0209  UNH  0.2153  CSCO  -0.1971  PFE  0.0582  JPM  0.0245  AXP  0.5187  JNJ  -0.1174  INTC  -0.2953  KO  0.3236  CAT  0.594  WMT  0.8617  CVX  0.0436  XOM  -0.5634  "
     ]
    }
   ],
   "source": [
    "# Weights of the assets in the optimal portfolio\n",
    "for ticker in ticker_list:\n",
    "    print(ticker + \"  \"+ str(round(optimal_port.x[ticker_list.index(ticker)],4)),end=\"  \")"
   ]
  },
  {
   "cell_type": "markdown",
   "metadata": {},
   "source": [
    "#### 3. What was the annualized average monthly return for the optimal portfolio?"
   ]
  },
  {
   "cell_type": "code",
   "execution_count": 35,
   "metadata": {},
   "outputs": [],
   "source": [
    "optimal_weights = optimal_port.x\n",
    "optimal_annual_return = port_ret(optimal_weights) * 12"
   ]
  },
  {
   "cell_type": "code",
   "execution_count": 40,
   "metadata": {},
   "outputs": [
    {
     "data": {
      "text/plain": [
       "5.005726089781277"
      ]
     },
     "execution_count": 40,
     "metadata": {},
     "output_type": "execute_result"
    }
   ],
   "source": [
    "annualized_return = port_ret(optimal_port.x) * 12\n",
    "annualized_return"
   ]
  },
  {
   "cell_type": "code",
   "execution_count": 36,
   "metadata": {},
   "outputs": [
    {
     "data": {
      "text/plain": [
       "5.005726089781277"
      ]
     },
     "execution_count": 36,
     "metadata": {},
     "output_type": "execute_result"
    }
   ],
   "source": [
    "optimal_annual_return"
   ]
  },
  {
   "cell_type": "markdown",
   "metadata": {},
   "source": [
    "#### 4. What was the annualized monthly standard deviation for the optimal portfolio?"
   ]
  },
  {
   "cell_type": "code",
   "execution_count": 38,
   "metadata": {},
   "outputs": [
    {
     "data": {
      "text/plain": [
       "0.6080899637304208"
      ]
     },
     "execution_count": 38,
     "metadata": {},
     "output_type": "execute_result"
    }
   ],
   "source": [
    "optimal_std = port_std(optimal_weights) * np.sqrt(12)\n",
    "\n",
    "optimal_std "
   ]
  },
  {
   "cell_type": "markdown",
   "metadata": {},
   "source": [
    "#### 5. What was the Sharpe Ratio of the optimal portfolio?"
   ]
  },
  {
   "cell_type": "code",
   "execution_count": 26,
   "metadata": {},
   "outputs": [
    {
     "data": {
      "text/plain": [
       "2.3198714741313973"
      ]
     },
     "execution_count": 26,
     "metadata": {},
     "output_type": "execute_result"
    }
   ],
   "source": [
    "# Maximum Sharpe Ratio\n",
    "-optimal_port.fun"
   ]
  },
  {
   "cell_type": "markdown",
   "metadata": {},
   "source": [
    "### PART II"
   ]
  },
  {
   "cell_type": "markdown",
   "metadata": {
    "tags": []
   },
   "source": [
    "#### 1. Create a DataFrame named optimal_weights to store the weights from a portfolio optimization performed on a rolling basis. Specifically, the optimization should use a 60 month rolling window, and be performed every month. The first 60 months correspond to the sample period for data_initial (01/2015 - 12/2019) created in question 3. Hence, the first observation in the optimal_weights DataFrame should be the weights you listed above in Part I. The next 60 month period should be 02/2015 - 01/2020, followed by 03/2015 - 02/2020, and so on. The last 60 month period should be 03/2018 - 02/2023. Again, assume there are no short-selling constraints."
   ]
  },
  {
   "cell_type": "code",
   "execution_count": 60,
   "metadata": {},
   "outputs": [
    {
     "data": {
      "text/html": [
       "<div>\n",
       "<style scoped>\n",
       "    .dataframe tbody tr th:only-of-type {\n",
       "        vertical-align: middle;\n",
       "    }\n",
       "\n",
       "    .dataframe tbody tr th {\n",
       "        vertical-align: top;\n",
       "    }\n",
       "\n",
       "    .dataframe thead tr th {\n",
       "        text-align: left;\n",
       "    }\n",
       "</style>\n",
       "<table border=\"1\" class=\"dataframe\">\n",
       "  <thead>\n",
       "    <tr>\n",
       "      <th></th>\n",
       "      <th>DIS</th>\n",
       "      <th>PG</th>\n",
       "      <th>V</th>\n",
       "      <th>UNH</th>\n",
       "      <th>CSCO</th>\n",
       "      <th>PFE</th>\n",
       "      <th>JPM</th>\n",
       "      <th>AXP</th>\n",
       "      <th>JNJ</th>\n",
       "      <th>INTC</th>\n",
       "      <th>KO</th>\n",
       "      <th>CAT</th>\n",
       "      <th>WMT</th>\n",
       "      <th>CVX</th>\n",
       "      <th>XOM</th>\n",
       "    </tr>\n",
       "  </thead>\n",
       "  <tbody>\n",
       "    <tr>\n",
       "      <th>2019-12-31</th>\n",
       "      <td>0.0</td>\n",
       "      <td>0.0</td>\n",
       "      <td>0.0</td>\n",
       "      <td>0.0</td>\n",
       "      <td>0.0</td>\n",
       "      <td>0.008</td>\n",
       "      <td>0.0</td>\n",
       "      <td>0.0504</td>\n",
       "      <td>0.0</td>\n",
       "      <td>0.0</td>\n",
       "      <td>0.1864</td>\n",
       "      <td>0.3162</td>\n",
       "      <td>0.4164</td>\n",
       "      <td>0.0226</td>\n",
       "      <td>0.0</td>\n",
       "    </tr>\n",
       "  </tbody>\n",
       "</table>\n",
       "</div>"
      ],
      "text/plain": [
       "            DIS   PG    V  UNH CSCO    PFE  JPM     AXP  JNJ INTC      KO  \\\n",
       "2019-12-31  0.0  0.0  0.0  0.0  0.0  0.008  0.0  0.0504  0.0  0.0  0.1864   \n",
       "\n",
       "               CAT     WMT     CVX  XOM  \n",
       "2019-12-31  0.3162  0.4164  0.0226  0.0  "
      ]
     },
     "execution_count": 60,
     "metadata": {},
     "output_type": "execute_result"
    }
   ],
   "source": [
    "window_size= 60\n",
    "\n",
    "optimal_weights =pd.DataFrame()\n",
    "\n",
    "for i in range(0,len(returns_mon.index)-window_size+1):\n",
    "    \n",
    "    def ex_port_ret(weights):\n",
    "        ex_port_ret = (np.dot(returns_mon.iloc[i:i+window_size],weights) - rf.iloc[i:i+window_size]['RF']).mean()*12\n",
    "        return ex_port_ret\n",
    "\n",
    "    # Define the excess portfolio standard deviation function\n",
    "    def ex_port_std(weights):\n",
    "        ex_port_std = (np.dot(returns_mon.iloc[i:i+window_size],weights) - rf.iloc[i:i+window_size]['RF']).std()*np.sqrt(12)\n",
    "        return ex_port_std\n",
    "\n",
    "    # Define the negative Sharpe Ratio function that we will minimize\n",
    "    def neg_SR(weights):\n",
    "        SR = ex_port_ret(weights) / ex_port_std(weights)\n",
    "        return (-1)*SR\n",
    "\n",
    "    # By convention of minimize function it should be a function\n",
    "    # that returns zero for conditions\n",
    "    constraints = ({'type':'eq','fun': lambda weights: np.sum(weights) - 1})\n",
    "\n",
    "    # Weights must be between 0 and 1\n",
    "    boundaries=[(0,1)]\n",
    "    bounds = tuple(boundaries * len(returns_mon.columns))\n",
    "\n",
    "    # Initial Guess (equally weighted)\n",
    "    init_guess = np.full(len(returns_mon.columns),1/len(returns_mon.columns))\n",
    "    \n",
    "    optimal_port = minimize(neg_SR,init_guess,bounds = bounds,constraints=constraints)\n",
    "    \n",
    "    optimal_weights = pd.concat([optimal_weights,\n",
    "                                pd.DataFrame(optimal_port.x.reshape(1,len(ticker_list)).round(4),\n",
    "                                             columns=[ticker_list],\n",
    "                                             index=[returns_mon.iloc[i:i+window_size].index[-1]])],\n",
    "                                axis=0)\n",
    "    \n",
    "optimal_weights"
   ]
  },
  {
   "cell_type": "markdown",
   "metadata": {
    "tags": []
   },
   "source": [
    "#### 2. Create a new DataFrame named port_returns to store the monthly returns over the sample period 01/2020 - 02/2023 for the following portfolios:\n",
    " 1) A monthly rebalanced portfolio using the rolling optimal weights. Specifically, the portfolio return for 01/2020 should be based on the weights as of 12/2019 (the same values detailed in Part I and in the first row in the optimal_weights DataFrame), the portfolio return for 02/2020 should be based on the weights as of 01/2020 and so on. Label the portfolio (MRoll_Reb_OP, an acronym for Monthly Rolling Rebalanced Optimal Portfolio). \n",
    " 2) A monthly rebalanced portfolio using the optimal weights as of 12/2019. Label the portfolio (M_Reb_OP, an acronym for Monthly Rebalancing Optimal Portfolio).\n",
    " 3) A monthly rebalanced equally-weighted portfolio. Label the portfolio (M_Reb_EW, an acronym for Monthly Rebalancing Equally-Weighted Portfolio).\n",
    " 4) A buy and hold portfolio, initially allocated according to the optimal weights as of 12/2019. Label the portfolio (BH_OP, an acronym for Buy and Hold Optimal Portfolio).\n",
    " 5) A buy and hold portfolio, initially allocated equally across stocks. Label the portfolio (BH_EW, an acronym for Buy and Hold Equally-Weighted Portfolio)."
   ]
  },
  {
   "cell_type": "code",
   "execution_count": null,
   "metadata": {},
   "outputs": [],
   "source": []
  },
  {
   "cell_type": "markdown",
   "metadata": {},
   "source": [
    "#### 3. Create a DataFrame port_stats (with a 3x5 shape) to store the annualized average monthly return, the annualized monthly standard deviation and the Sharpe ratio for all 5 portfolios."
   ]
  },
  {
   "cell_type": "code",
   "execution_count": null,
   "metadata": {},
   "outputs": [],
   "source": []
  },
  {
   "cell_type": "markdown",
   "metadata": {},
   "source": [
    "#### 4. Compute the cumulative return series for all portfolios and plot them in the same graph. "
   ]
  },
  {
   "cell_type": "code",
   "execution_count": null,
   "metadata": {},
   "outputs": [],
   "source": []
  },
  {
   "cell_type": "markdown",
   "metadata": {},
   "source": [
    "#### 5. What was the cumulative return for the best performing portfolio? What was the cumulative return for the worst performing portfolio?"
   ]
  },
  {
   "cell_type": "code",
   "execution_count": null,
   "metadata": {},
   "outputs": [],
   "source": []
  },
  {
   "cell_type": "markdown",
   "metadata": {},
   "source": [
    "### PART III - Examination of the Size Effect"
   ]
  },
  {
   "cell_type": "markdown",
   "metadata": {},
   "source": [
    "Please download the file \"crsp_fall22.csv\" located in folder Group_Assignment. The file contains the following columns:\n",
    "* PERMNO - Permanent number (unique identifer for the stock)\n",
    "* DATE\n",
    "* PRC - The closing price\n",
    "* VOL - Trading volume (in hundreds)\n",
    "* RET - The simple return\n",
    "* SHROUT - The number of shares outstanding (in thousands)\n",
    "* CFACPR - Cumulative factor to adjust the closing price\n",
    "* CFACSHR - Cumulative factor to adjust shares outstanding"
   ]
  },
  {
   "cell_type": "markdown",
   "metadata": {
    "tags": []
   },
   "source": [
    "#### 1. Create a DataFrame named fin_data by reading in the columns DATE, PERMNO, RET, PRC and SHROUT from the file 'crsp_fall22.csv'. Set the DATE as the index. In addition, change each index value to the end of the month. For example, change '1926-05-30' to 1926-05-31', or '1987-01-30' to '1987-01-31'. In addition, create a new column (labeled MKTCAP) to store the market capitalization (defined as PRC * SHROUT). Subsequently, permanently remove the PRC and SHROUT columns."
   ]
  },
  {
   "cell_type": "code",
   "execution_count": null,
   "metadata": {},
   "outputs": [],
   "source": []
  },
  {
   "cell_type": "markdown",
   "metadata": {},
   "source": [
    "#### 2. How many stocks are there in the sample? How many of these stocks are in the sample over the entire sample period?"
   ]
  },
  {
   "cell_type": "code",
   "execution_count": null,
   "metadata": {},
   "outputs": [],
   "source": []
  },
  {
   "cell_type": "markdown",
   "metadata": {
    "tags": []
   },
   "source": [
    "#### 3. Every June, split the stocks into quintiles (five groups) based on their market capitalization. The header of a DataFrame named size_qt with the resulting split can be found below. "
   ]
  },
  {
   "cell_type": "code",
   "execution_count": 101,
   "metadata": {
    "tags": []
   },
   "outputs": [
    {
     "data": {
      "text/html": [
       "<div>\n",
       "<style scoped>\n",
       "    .dataframe tbody tr th:only-of-type {\n",
       "        vertical-align: middle;\n",
       "    }\n",
       "\n",
       "    .dataframe tbody tr th {\n",
       "        vertical-align: top;\n",
       "    }\n",
       "\n",
       "    .dataframe thead th {\n",
       "        text-align: right;\n",
       "    }\n",
       "</style>\n",
       "<table border=\"1\" class=\"dataframe\">\n",
       "  <thead>\n",
       "    <tr style=\"text-align: right;\">\n",
       "      <th></th>\n",
       "      <th>PERMNO</th>\n",
       "      <th>MKTCAP_QT</th>\n",
       "    </tr>\n",
       "    <tr>\n",
       "      <th>DATE</th>\n",
       "      <th></th>\n",
       "      <th></th>\n",
       "    </tr>\n",
       "  </thead>\n",
       "  <tbody>\n",
       "    <tr>\n",
       "      <th>1990-06-30</th>\n",
       "      <td>10294</td>\n",
       "      <td>3</td>\n",
       "    </tr>\n",
       "    <tr>\n",
       "      <th>1990-06-30</th>\n",
       "      <td>65496</td>\n",
       "      <td>3</td>\n",
       "    </tr>\n",
       "    <tr>\n",
       "      <th>1990-06-30</th>\n",
       "      <td>10905</td>\n",
       "      <td>2</td>\n",
       "    </tr>\n",
       "    <tr>\n",
       "      <th>1990-06-30</th>\n",
       "      <td>32037</td>\n",
       "      <td>1</td>\n",
       "    </tr>\n",
       "    <tr>\n",
       "      <th>1990-06-30</th>\n",
       "      <td>66288</td>\n",
       "      <td>5</td>\n",
       "    </tr>\n",
       "  </tbody>\n",
       "</table>\n",
       "</div>"
      ],
      "text/plain": [
       "            PERMNO MKTCAP_QT\n",
       "DATE                        \n",
       "1990-06-30   10294         3\n",
       "1990-06-30   65496         3\n",
       "1990-06-30   10905         2\n",
       "1990-06-30   32037         1\n",
       "1990-06-30   66288         5"
      ]
     },
     "execution_count": 101,
     "metadata": {},
     "output_type": "execute_result"
    }
   ],
   "source": [
    "size_qt.sort_index().head()"
   ]
  },
  {
   "cell_type": "markdown",
   "metadata": {
    "tags": []
   },
   "source": [
    "#### 4. Create a new DataFrame named data by using the merge_asof() function to merge the DataFrames fin_data and size_qt. Specifically, merge each stock's June quintile allocation with the stock's monthly returns for the next 12 months starting the following July. Subsequently, set DATE as the index in the DataFrame."
   ]
  },
  {
   "cell_type": "code",
   "execution_count": null,
   "metadata": {},
   "outputs": [],
   "source": []
  },
  {
   "cell_type": "markdown",
   "metadata": {},
   "source": [
    "#### 5. Create a new DataFrame called quintiles to store the average monthly return for each quintile. The header of the DataFrame can be found below:"
   ]
  },
  {
   "cell_type": "code",
   "execution_count": null,
   "metadata": {},
   "outputs": [],
   "source": []
  },
  {
   "cell_type": "code",
   "execution_count": 105,
   "metadata": {},
   "outputs": [
    {
     "data": {
      "text/html": [
       "<div>\n",
       "<style scoped>\n",
       "    .dataframe tbody tr th:only-of-type {\n",
       "        vertical-align: middle;\n",
       "    }\n",
       "\n",
       "    .dataframe tbody tr th {\n",
       "        vertical-align: top;\n",
       "    }\n",
       "\n",
       "    .dataframe thead th {\n",
       "        text-align: right;\n",
       "    }\n",
       "</style>\n",
       "<table border=\"1\" class=\"dataframe\">\n",
       "  <thead>\n",
       "    <tr style=\"text-align: right;\">\n",
       "      <th></th>\n",
       "      <th>Q1_RET</th>\n",
       "      <th>Q2_RET</th>\n",
       "      <th>Q3_RET</th>\n",
       "      <th>Q4_RET</th>\n",
       "      <th>Q5_RET</th>\n",
       "    </tr>\n",
       "    <tr>\n",
       "      <th>DATE</th>\n",
       "      <th></th>\n",
       "      <th></th>\n",
       "      <th></th>\n",
       "      <th></th>\n",
       "      <th></th>\n",
       "    </tr>\n",
       "  </thead>\n",
       "  <tbody>\n",
       "    <tr>\n",
       "      <th>1990-07-31</th>\n",
       "      <td>-0.001078</td>\n",
       "      <td>-0.041629</td>\n",
       "      <td>-0.044858</td>\n",
       "      <td>-0.040050</td>\n",
       "      <td>-0.028895</td>\n",
       "    </tr>\n",
       "    <tr>\n",
       "      <th>1990-08-31</th>\n",
       "      <td>-0.088672</td>\n",
       "      <td>-0.111944</td>\n",
       "      <td>-0.134610</td>\n",
       "      <td>-0.132793</td>\n",
       "      <td>-0.110817</td>\n",
       "    </tr>\n",
       "    <tr>\n",
       "      <th>1990-09-30</th>\n",
       "      <td>-0.045567</td>\n",
       "      <td>-0.090744</td>\n",
       "      <td>-0.092048</td>\n",
       "      <td>-0.099917</td>\n",
       "      <td>-0.080715</td>\n",
       "    </tr>\n",
       "    <tr>\n",
       "      <th>1990-10-31</th>\n",
       "      <td>-0.071408</td>\n",
       "      <td>-0.064675</td>\n",
       "      <td>-0.069424</td>\n",
       "      <td>-0.060729</td>\n",
       "      <td>-0.039041</td>\n",
       "    </tr>\n",
       "    <tr>\n",
       "      <th>1990-11-30</th>\n",
       "      <td>-0.011988</td>\n",
       "      <td>0.002373</td>\n",
       "      <td>0.033031</td>\n",
       "      <td>0.070116</td>\n",
       "      <td>0.099023</td>\n",
       "    </tr>\n",
       "  </tbody>\n",
       "</table>\n",
       "</div>"
      ],
      "text/plain": [
       "              Q1_RET    Q2_RET    Q3_RET    Q4_RET    Q5_RET\n",
       "DATE                                                        \n",
       "1990-07-31 -0.001078 -0.041629 -0.044858 -0.040050 -0.028895\n",
       "1990-08-31 -0.088672 -0.111944 -0.134610 -0.132793 -0.110817\n",
       "1990-09-30 -0.045567 -0.090744 -0.092048 -0.099917 -0.080715\n",
       "1990-10-31 -0.071408 -0.064675 -0.069424 -0.060729 -0.039041\n",
       "1990-11-30 -0.011988  0.002373  0.033031  0.070116  0.099023"
      ]
     },
     "execution_count": 105,
     "metadata": {},
     "output_type": "execute_result"
    }
   ],
   "source": [
    "quintiles.head()"
   ]
  },
  {
   "cell_type": "markdown",
   "metadata": {},
   "source": [
    "#### 6. Create a bar plot of the average monthly return for all five market capitalization groups, across the entire sample."
   ]
  },
  {
   "cell_type": "code",
   "execution_count": null,
   "metadata": {},
   "outputs": [],
   "source": []
  },
  {
   "cell_type": "markdown",
   "metadata": {},
   "source": [
    "#### 7. Create a line plot of the cumulative return series for all five market capitalization groups."
   ]
  },
  {
   "cell_type": "code",
   "execution_count": null,
   "metadata": {},
   "outputs": [],
   "source": []
  }
 ],
 "metadata": {
  "anaconda-cloud": {},
  "kernelspec": {
   "display_name": "Python 3 (ipykernel)",
   "language": "python",
   "name": "python3"
  },
  "language_info": {
   "codemirror_mode": {
    "name": "ipython",
    "version": 3
   },
   "file_extension": ".py",
   "mimetype": "text/x-python",
   "name": "python",
   "nbconvert_exporter": "python",
   "pygments_lexer": "ipython3",
   "version": "3.9.7"
  }
 },
 "nbformat": 4,
 "nbformat_minor": 4
}
